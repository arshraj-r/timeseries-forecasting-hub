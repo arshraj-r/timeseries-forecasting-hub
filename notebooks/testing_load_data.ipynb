{
 "cells": [
  {
   "cell_type": "code",
   "execution_count": 5,
   "id": "0bc60e0a-63fb-4c96-b7c5-f357f24b6a27",
   "metadata": {},
   "outputs": [
    {
     "data": {
      "text/html": [
       "<div>\n",
       "<style scoped>\n",
       "    .dataframe tbody tr th:only-of-type {\n",
       "        vertical-align: middle;\n",
       "    }\n",
       "\n",
       "    .dataframe tbody tr th {\n",
       "        vertical-align: top;\n",
       "    }\n",
       "\n",
       "    .dataframe thead th {\n",
       "        text-align: right;\n",
       "    }\n",
       "</style>\n",
       "<table border=\"1\" class=\"dataframe\">\n",
       "  <thead>\n",
       "    <tr style=\"text-align: right;\">\n",
       "      <th></th>\n",
       "      <th>time</th>\n",
       "      <th>value</th>\n",
       "    </tr>\n",
       "  </thead>\n",
       "  <tbody>\n",
       "    <tr>\n",
       "      <th>0</th>\n",
       "      <td>1949.000000</td>\n",
       "      <td>112</td>\n",
       "    </tr>\n",
       "    <tr>\n",
       "      <th>1</th>\n",
       "      <td>1949.083333</td>\n",
       "      <td>118</td>\n",
       "    </tr>\n",
       "    <tr>\n",
       "      <th>2</th>\n",
       "      <td>1949.166667</td>\n",
       "      <td>132</td>\n",
       "    </tr>\n",
       "    <tr>\n",
       "      <th>3</th>\n",
       "      <td>1949.250000</td>\n",
       "      <td>129</td>\n",
       "    </tr>\n",
       "    <tr>\n",
       "      <th>4</th>\n",
       "      <td>1949.333333</td>\n",
       "      <td>121</td>\n",
       "    </tr>\n",
       "  </tbody>\n",
       "</table>\n",
       "</div>"
      ],
      "text/plain": [
       "          time  value\n",
       "0  1949.000000    112\n",
       "1  1949.083333    118\n",
       "2  1949.166667    132\n",
       "3  1949.250000    129\n",
       "4  1949.333333    121"
      ]
     },
     "execution_count": 5,
     "metadata": {},
     "output_type": "execute_result"
    }
   ],
   "source": [
    "import pandas as pd\n",
    "\n",
    "# Load AirPassengers dataset\n",
    "air_passengers = pd.read_parquet(\"../data/processed/air_passengers.parquet\")\n",
    "air_passengers.head()"
   ]
  },
  {
   "cell_type": "code",
   "execution_count": 6,
   "id": "bc8f141e-dd28-4c2b-b456-1339441de02c",
   "metadata": {},
   "outputs": [
    {
     "name": "stdout",
     "output_type": "stream",
     "text": [
      "(60, 1)\n"
     ]
    },
    {
     "data": {
      "text/html": [
       "<div>\n",
       "<style scoped>\n",
       "    .dataframe tbody tr th:only-of-type {\n",
       "        vertical-align: middle;\n",
       "    }\n",
       "\n",
       "    .dataframe tbody tr th {\n",
       "        vertical-align: top;\n",
       "    }\n",
       "\n",
       "    .dataframe thead th {\n",
       "        text-align: right;\n",
       "    }\n",
       "</style>\n",
       "<table border=\"1\" class=\"dataframe\">\n",
       "  <thead>\n",
       "    <tr style=\"text-align: right;\">\n",
       "      <th></th>\n",
       "      <th>GDP</th>\n",
       "    </tr>\n",
       "    <tr>\n",
       "      <th>DATE</th>\n",
       "      <th></th>\n",
       "    </tr>\n",
       "  </thead>\n",
       "  <tbody>\n",
       "    <tr>\n",
       "      <th>2010-01-01</th>\n",
       "      <td>14764.610</td>\n",
       "    </tr>\n",
       "    <tr>\n",
       "      <th>2010-04-01</th>\n",
       "      <td>14980.193</td>\n",
       "    </tr>\n",
       "    <tr>\n",
       "      <th>2010-07-01</th>\n",
       "      <td>15141.607</td>\n",
       "    </tr>\n",
       "    <tr>\n",
       "      <th>2010-10-01</th>\n",
       "      <td>15309.474</td>\n",
       "    </tr>\n",
       "    <tr>\n",
       "      <th>2011-01-01</th>\n",
       "      <td>15351.448</td>\n",
       "    </tr>\n",
       "  </tbody>\n",
       "</table>\n",
       "</div>"
      ],
      "text/plain": [
       "                  GDP\n",
       "DATE                 \n",
       "2010-01-01  14764.610\n",
       "2010-04-01  14980.193\n",
       "2010-07-01  15141.607\n",
       "2010-10-01  15309.474\n",
       "2011-01-01  15351.448"
      ]
     },
     "execution_count": 6,
     "metadata": {},
     "output_type": "execute_result"
    }
   ],
   "source": [
    "# Load GDP data\n",
    "gdp = pd.read_parquet(\"../data/processed/gdp_fred.parquet\")\n",
    "print(gdp.shape)\n",
    "gdp.head()"
   ]
  },
  {
   "cell_type": "code",
   "execution_count": 7,
   "id": "42786692-6ecc-40fc-9bbc-e834dc643b30",
   "metadata": {},
   "outputs": [
    {
     "name": "stdout",
     "output_type": "stream",
     "text": [
      "(27472, 3)\n"
     ]
    },
    {
     "data": {
      "text/html": [
       "<div>\n",
       "<style scoped>\n",
       "    .dataframe tbody tr th:only-of-type {\n",
       "        vertical-align: middle;\n",
       "    }\n",
       "\n",
       "    .dataframe tbody tr th {\n",
       "        vertical-align: top;\n",
       "    }\n",
       "\n",
       "    .dataframe thead th {\n",
       "        text-align: right;\n",
       "    }\n",
       "</style>\n",
       "<table border=\"1\" class=\"dataframe\">\n",
       "  <thead>\n",
       "    <tr style=\"text-align: right;\">\n",
       "      <th></th>\n",
       "      <th>country</th>\n",
       "      <th>date</th>\n",
       "      <th>Population</th>\n",
       "    </tr>\n",
       "  </thead>\n",
       "  <tbody>\n",
       "    <tr>\n",
       "      <th>0</th>\n",
       "      <td>Anguilla</td>\n",
       "      <td>2100-01-01</td>\n",
       "      <td>NaN</td>\n",
       "    </tr>\n",
       "    <tr>\n",
       "      <th>1</th>\n",
       "      <td>Anguilla</td>\n",
       "      <td>2095-01-01</td>\n",
       "      <td>NaN</td>\n",
       "    </tr>\n",
       "    <tr>\n",
       "      <th>2</th>\n",
       "      <td>Anguilla</td>\n",
       "      <td>2090-01-01</td>\n",
       "      <td>NaN</td>\n",
       "    </tr>\n",
       "    <tr>\n",
       "      <th>3</th>\n",
       "      <td>Anguilla</td>\n",
       "      <td>2085-01-01</td>\n",
       "      <td>NaN</td>\n",
       "    </tr>\n",
       "    <tr>\n",
       "      <th>4</th>\n",
       "      <td>Anguilla</td>\n",
       "      <td>2080-01-01</td>\n",
       "      <td>NaN</td>\n",
       "    </tr>\n",
       "  </tbody>\n",
       "</table>\n",
       "</div>"
      ],
      "text/plain": [
       "    country       date  Population\n",
       "0  Anguilla 2100-01-01         NaN\n",
       "1  Anguilla 2095-01-01         NaN\n",
       "2  Anguilla 2090-01-01         NaN\n",
       "3  Anguilla 2085-01-01         NaN\n",
       "4  Anguilla 2080-01-01         NaN"
      ]
     },
     "execution_count": 7,
     "metadata": {},
     "output_type": "execute_result"
    }
   ],
   "source": [
    "# Load World Bank Population data\n",
    "population = pd.read_parquet(\"../data/processed/worldbank_population.parquet\")\n",
    "print(population.shape)\n",
    "population.head()"
   ]
  },
  {
   "cell_type": "markdown",
   "id": "957e0c6d-59b6-40d5-9bcc-6a54a5e60ad1",
   "metadata": {},
   "source": [
    "### testing import packages"
   ]
  },
  {
   "cell_type": "code",
   "execution_count": 12,
   "id": "d8ea27bf-0251-4895-9188-41985ee2848a",
   "metadata": {},
   "outputs": [],
   "source": [
    "# Add src directory to Python path\n",
    "import os\n",
    "import sys\n",
    "src_path = os.path.abspath(os.path.join(\"..\", \"src\"))\n",
    "if src_path not in sys.path:\n",
    "    sys.path.append(src_path)\n",
    "\n",
    "# Now you can import your utilities\n",
    "# from dataloader import load_parquet\n",
    "from preprocessing import *\n",
    "from evaluation import evaluate_forecast\n",
    "from utils import plot_series"
   ]
  },
  {
   "cell_type": "code",
   "execution_count": 14,
   "id": "849067e6-cf1b-4130-9198-914763151407",
   "metadata": {},
   "outputs": [
    {
     "data": {
      "text/plain": [
       "['/home/deadshot/GitHub/timeseries-forecasting-hub/venv/lib/python312.zip',\n",
       " '/home/deadshot/GitHub/timeseries-forecasting-hub/venv/lib/python3.12',\n",
       " '/home/deadshot/GitHub/timeseries-forecasting-hub/venv/lib/python3.12/lib-dynload',\n",
       " '',\n",
       " '/home/deadshot/GitHub/timeseries-forecasting-hub/venv/lib/python3.12/site-packages',\n",
       " '/home/deadshot/GitHub/timeseries-forecasting-hub/src']"
      ]
     },
     "execution_count": 14,
     "metadata": {},
     "output_type": "execute_result"
    }
   ],
   "source": [
    "sys.path"
   ]
  },
  {
   "cell_type": "code",
   "execution_count": null,
   "id": "8be0b5fd-ce1c-4f75-a726-c0dca95c2cd4",
   "metadata": {},
   "outputs": [],
   "source": []
  }
 ],
 "metadata": {
  "kernelspec": {
   "display_name": "Python 3 (ipykernel)",
   "language": "python",
   "name": "python3"
  },
  "language_info": {
   "codemirror_mode": {
    "name": "ipython",
    "version": 3
   },
   "file_extension": ".py",
   "mimetype": "text/x-python",
   "name": "python",
   "nbconvert_exporter": "python",
   "pygments_lexer": "ipython3",
   "version": "3.12.9"
  }
 },
 "nbformat": 4,
 "nbformat_minor": 5
}
