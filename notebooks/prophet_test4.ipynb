{
 "cells": [
  {
   "cell_type": "code",
   "execution_count": 11,
   "id": "331fd7e7-f625-43dd-95cc-f29ef1ece609",
   "metadata": {},
   "outputs": [],
   "source": [
    "import pandas as pd\n",
    "from prophet import Prophet\n",
    "from sklearn.model_selection import TimeSeriesSplit, ParameterGrid\n",
    "from sklearn.metrics import mean_absolute_percentage_error\n",
    "import numpy as np\n",
    "import matplotlib.pyplot as plt"
   ]
  },
  {
   "cell_type": "code",
   "execution_count": 12,
   "id": "d1f8690b-da0f-4321-a754-c8e6b749a1b0",
   "metadata": {},
   "outputs": [],
   "source": [
    "# Load dataset\n",
    "df = pd.read_csv('https://raw.githubusercontent.com/jbrownlee/Datasets/master/airline-passengers.csv')\n",
    "df.columns = ['ds', 'y']\n",
    "df['ds'] = pd.to_datetime(df['ds'])"
   ]
  },
  {
   "cell_type": "code",
   "execution_count": 18,
   "id": "d351b148-9266-4fb8-b1b2-72747bc7493f",
   "metadata": {},
   "outputs": [],
   "source": [
    "# Define parameter grid\n",
    "param_grid = {\n",
    "    'changepoint_prior_scale': [0.01, 0.1, 0.5],\n",
    "    'seasonality_prior_scale': [1.0, 10.0],\n",
    "    'seasonality_mode': ['additive', 'multiplicative']\n",
    "}\n",
    "\n",
    "param_grid1 = {\n",
    "    'changepoint_prior_scale': [0.01, 0.1, 0.5],\n",
    "    'seasonality_prior_scale': [1.0, 10.0],\n",
    "    'holidays_prior_scale': [0.01, 0.1],\n",
    "    'seasonality_mode': ['additive', 'multiplicative'],\n",
    "    'changepoint_range': [0.8, 0.9],\n",
    "    'n_changepoints': [15, 25]\n",
    "}\n",
    "\n",
    "param_grid2 = {\n",
    "    'growth': ['linear', 'logistic', 'flat'],\n",
    "    'n_changepoints': list(range(0, 55, 10)),  # fewer for speed, tune as needed\n",
    "    'changepoint_range': [0.5, 0.75, 1.0],  # instead of uniform(0.5, 0.5)\n",
    "    'yearly_seasonality': [True, False],\n",
    "    'weekly_seasonality': [True, False],\n",
    "    'daily_seasonality': [True, False],\n",
    "    'seasonality_mode': ['additive', 'multiplicative'],\n",
    "    'seasonality_prior_scale': [5.0, 10.0, 15.0],  # sampled from uniform(5.0, 15.0)\n",
    "    'changepoint_prior_scale': [0.001, 0.01, 0.1],  # from uniform(0.0, 0.1)\n",
    "    'interval_width': [0.2, 0.5, 0.8],\n",
    "    'uncertainty_samples': [500, 1000]\n",
    "}\n",
    "\n",
    "grid = list(ParameterGrid(param_grid1))"
   ]
  },
  {
   "cell_type": "code",
   "execution_count": 19,
   "id": "0658ee7a-ebb2-4ca4-9331-80887b41b4b1",
   "metadata": {},
   "outputs": [],
   "source": [
    "# TimeSeriesSplit setup\n",
    "tscv = TimeSeriesSplit(n_splits=3)\n",
    "best_mape = float(\"inf\")\n",
    "best_params = None\n"
   ]
  },
  {
   "cell_type": "code",
   "execution_count": 20,
   "id": "6d91062e-96bf-4f5f-a4f8-ce8618dd3ecb",
   "metadata": {},
   "outputs": [
    {
     "name": "stderr",
     "output_type": "stream",
     "text": [
      "12:54:33 - cmdstanpy - INFO - Chain [1] start processing\n",
      "12:54:33 - cmdstanpy - INFO - Chain [1] done processing\n",
      "12:54:33 - cmdstanpy - INFO - Chain [1] start processing\n",
      "12:54:34 - cmdstanpy - INFO - Chain [1] done processing\n",
      "12:54:34 - cmdstanpy - INFO - Chain [1] start processing\n",
      "12:54:34 - cmdstanpy - INFO - Chain [1] done processing\n",
      "12:54:34 - cmdstanpy - INFO - Chain [1] start processing\n"
     ]
    },
    {
     "name": "stdout",
     "output_type": "stream",
     "text": [
      "Params: {'changepoint_prior_scale': 0.01, 'changepoint_range': 0.8, 'holidays_prior_scale': 0.01, 'n_changepoints': 15, 'seasonality_mode': 'additive', 'seasonality_prior_scale': 1.0}, Avg MAPE: 0.0770\n"
     ]
    },
    {
     "name": "stderr",
     "output_type": "stream",
     "text": [
      "12:54:34 - cmdstanpy - INFO - Chain [1] done processing\n",
      "12:54:34 - cmdstanpy - INFO - Chain [1] start processing\n",
      "12:54:35 - cmdstanpy - INFO - Chain [1] done processing\n",
      "12:54:35 - cmdstanpy - INFO - Chain [1] start processing\n",
      "12:54:35 - cmdstanpy - INFO - Chain [1] done processing\n",
      "12:54:35 - cmdstanpy - INFO - Chain [1] start processing\n"
     ]
    },
    {
     "name": "stdout",
     "output_type": "stream",
     "text": [
      "Params: {'changepoint_prior_scale': 0.01, 'changepoint_range': 0.8, 'holidays_prior_scale': 0.01, 'n_changepoints': 15, 'seasonality_mode': 'additive', 'seasonality_prior_scale': 10.0}, Avg MAPE: 0.0770\n"
     ]
    },
    {
     "name": "stderr",
     "output_type": "stream",
     "text": [
      "12:54:35 - cmdstanpy - INFO - Chain [1] done processing\n",
      "12:54:35 - cmdstanpy - INFO - Chain [1] start processing\n",
      "12:54:36 - cmdstanpy - INFO - Chain [1] done processing\n",
      "12:54:36 - cmdstanpy - INFO - Chain [1] start processing\n",
      "12:54:36 - cmdstanpy - INFO - Chain [1] done processing\n",
      "12:54:36 - cmdstanpy - INFO - Chain [1] start processing\n"
     ]
    },
    {
     "name": "stdout",
     "output_type": "stream",
     "text": [
      "Params: {'changepoint_prior_scale': 0.01, 'changepoint_range': 0.8, 'holidays_prior_scale': 0.01, 'n_changepoints': 15, 'seasonality_mode': 'multiplicative', 'seasonality_prior_scale': 1.0}, Avg MAPE: 0.0732\n"
     ]
    },
    {
     "name": "stderr",
     "output_type": "stream",
     "text": [
      "12:54:36 - cmdstanpy - INFO - Chain [1] done processing\n",
      "12:54:36 - cmdstanpy - INFO - Chain [1] start processing\n",
      "12:54:37 - cmdstanpy - INFO - Chain [1] done processing\n",
      "12:54:37 - cmdstanpy - INFO - Chain [1] start processing\n",
      "12:54:37 - cmdstanpy - INFO - Chain [1] done processing\n",
      "12:54:37 - cmdstanpy - INFO - Chain [1] start processing\n"
     ]
    },
    {
     "name": "stdout",
     "output_type": "stream",
     "text": [
      "Params: {'changepoint_prior_scale': 0.01, 'changepoint_range': 0.8, 'holidays_prior_scale': 0.01, 'n_changepoints': 15, 'seasonality_mode': 'multiplicative', 'seasonality_prior_scale': 10.0}, Avg MAPE: 0.0730\n"
     ]
    },
    {
     "name": "stderr",
     "output_type": "stream",
     "text": [
      "12:54:37 - cmdstanpy - INFO - Chain [1] done processing\n",
      "12:54:38 - cmdstanpy - INFO - Chain [1] start processing\n",
      "12:54:38 - cmdstanpy - INFO - Chain [1] done processing\n",
      "12:54:38 - cmdstanpy - INFO - Chain [1] start processing\n",
      "12:54:38 - cmdstanpy - INFO - Chain [1] done processing\n",
      "12:54:38 - cmdstanpy - INFO - Chain [1] start processing\n"
     ]
    },
    {
     "name": "stdout",
     "output_type": "stream",
     "text": [
      "Params: {'changepoint_prior_scale': 0.01, 'changepoint_range': 0.8, 'holidays_prior_scale': 0.01, 'n_changepoints': 25, 'seasonality_mode': 'additive', 'seasonality_prior_scale': 1.0}, Avg MAPE: 0.0773\n"
     ]
    },
    {
     "name": "stderr",
     "output_type": "stream",
     "text": [
      "12:54:38 - cmdstanpy - INFO - Chain [1] done processing\n",
      "12:54:38 - cmdstanpy - INFO - Chain [1] start processing\n",
      "12:54:39 - cmdstanpy - INFO - Chain [1] done processing\n",
      "12:54:39 - cmdstanpy - INFO - Chain [1] start processing\n",
      "12:54:39 - cmdstanpy - INFO - Chain [1] done processing\n",
      "12:54:39 - cmdstanpy - INFO - Chain [1] start processing\n"
     ]
    },
    {
     "name": "stdout",
     "output_type": "stream",
     "text": [
      "Params: {'changepoint_prior_scale': 0.01, 'changepoint_range': 0.8, 'holidays_prior_scale': 0.01, 'n_changepoints': 25, 'seasonality_mode': 'additive', 'seasonality_prior_scale': 10.0}, Avg MAPE: 0.0774\n"
     ]
    },
    {
     "name": "stderr",
     "output_type": "stream",
     "text": [
      "12:54:39 - cmdstanpy - INFO - Chain [1] done processing\n",
      "12:54:39 - cmdstanpy - INFO - Chain [1] start processing\n",
      "12:54:40 - cmdstanpy - INFO - Chain [1] done processing\n",
      "12:54:40 - cmdstanpy - INFO - Chain [1] start processing\n",
      "12:54:40 - cmdstanpy - INFO - Chain [1] done processing\n",
      "12:54:40 - cmdstanpy - INFO - Chain [1] start processing\n"
     ]
    },
    {
     "name": "stdout",
     "output_type": "stream",
     "text": [
      "Params: {'changepoint_prior_scale': 0.01, 'changepoint_range': 0.8, 'holidays_prior_scale': 0.01, 'n_changepoints': 25, 'seasonality_mode': 'multiplicative', 'seasonality_prior_scale': 1.0}, Avg MAPE: 0.0731\n"
     ]
    },
    {
     "name": "stderr",
     "output_type": "stream",
     "text": [
      "12:54:40 - cmdstanpy - INFO - Chain [1] done processing\n",
      "12:54:41 - cmdstanpy - INFO - Chain [1] start processing\n",
      "12:54:41 - cmdstanpy - INFO - Chain [1] done processing\n",
      "12:54:41 - cmdstanpy - INFO - Chain [1] start processing\n",
      "12:54:41 - cmdstanpy - INFO - Chain [1] done processing\n",
      "12:54:41 - cmdstanpy - INFO - Chain [1] start processing\n"
     ]
    },
    {
     "name": "stdout",
     "output_type": "stream",
     "text": [
      "Params: {'changepoint_prior_scale': 0.01, 'changepoint_range': 0.8, 'holidays_prior_scale': 0.01, 'n_changepoints': 25, 'seasonality_mode': 'multiplicative', 'seasonality_prior_scale': 10.0}, Avg MAPE: 0.0739\n"
     ]
    },
    {
     "name": "stderr",
     "output_type": "stream",
     "text": [
      "12:54:41 - cmdstanpy - INFO - Chain [1] done processing\n",
      "12:54:41 - cmdstanpy - INFO - Chain [1] start processing\n",
      "12:54:42 - cmdstanpy - INFO - Chain [1] done processing\n",
      "12:54:42 - cmdstanpy - INFO - Chain [1] start processing\n",
      "12:54:42 - cmdstanpy - INFO - Chain [1] done processing\n",
      "12:54:42 - cmdstanpy - INFO - Chain [1] start processing\n"
     ]
    },
    {
     "name": "stdout",
     "output_type": "stream",
     "text": [
      "Params: {'changepoint_prior_scale': 0.01, 'changepoint_range': 0.8, 'holidays_prior_scale': 0.1, 'n_changepoints': 15, 'seasonality_mode': 'additive', 'seasonality_prior_scale': 1.0}, Avg MAPE: 0.0770\n"
     ]
    },
    {
     "name": "stderr",
     "output_type": "stream",
     "text": [
      "12:54:42 - cmdstanpy - INFO - Chain [1] done processing\n",
      "12:54:42 - cmdstanpy - INFO - Chain [1] start processing\n",
      "12:54:43 - cmdstanpy - INFO - Chain [1] done processing\n",
      "12:54:43 - cmdstanpy - INFO - Chain [1] start processing\n",
      "12:54:43 - cmdstanpy - INFO - Chain [1] done processing\n",
      "12:54:43 - cmdstanpy - INFO - Chain [1] start processing\n"
     ]
    },
    {
     "name": "stdout",
     "output_type": "stream",
     "text": [
      "Params: {'changepoint_prior_scale': 0.01, 'changepoint_range': 0.8, 'holidays_prior_scale': 0.1, 'n_changepoints': 15, 'seasonality_mode': 'additive', 'seasonality_prior_scale': 10.0}, Avg MAPE: 0.0770\n"
     ]
    },
    {
     "name": "stderr",
     "output_type": "stream",
     "text": [
      "12:54:43 - cmdstanpy - INFO - Chain [1] done processing\n",
      "12:54:44 - cmdstanpy - INFO - Chain [1] start processing\n",
      "12:54:44 - cmdstanpy - INFO - Chain [1] done processing\n",
      "12:54:44 - cmdstanpy - INFO - Chain [1] start processing\n",
      "12:54:44 - cmdstanpy - INFO - Chain [1] done processing\n",
      "12:54:44 - cmdstanpy - INFO - Chain [1] start processing\n"
     ]
    },
    {
     "name": "stdout",
     "output_type": "stream",
     "text": [
      "Params: {'changepoint_prior_scale': 0.01, 'changepoint_range': 0.8, 'holidays_prior_scale': 0.1, 'n_changepoints': 15, 'seasonality_mode': 'multiplicative', 'seasonality_prior_scale': 1.0}, Avg MAPE: 0.0732\n"
     ]
    },
    {
     "name": "stderr",
     "output_type": "stream",
     "text": [
      "12:54:44 - cmdstanpy - INFO - Chain [1] done processing\n",
      "12:54:45 - cmdstanpy - INFO - Chain [1] start processing\n",
      "12:54:45 - cmdstanpy - INFO - Chain [1] done processing\n",
      "12:54:45 - cmdstanpy - INFO - Chain [1] start processing\n",
      "12:54:45 - cmdstanpy - INFO - Chain [1] done processing\n",
      "12:54:45 - cmdstanpy - INFO - Chain [1] start processing\n"
     ]
    },
    {
     "name": "stdout",
     "output_type": "stream",
     "text": [
      "Params: {'changepoint_prior_scale': 0.01, 'changepoint_range': 0.8, 'holidays_prior_scale': 0.1, 'n_changepoints': 15, 'seasonality_mode': 'multiplicative', 'seasonality_prior_scale': 10.0}, Avg MAPE: 0.0730\n"
     ]
    },
    {
     "name": "stderr",
     "output_type": "stream",
     "text": [
      "12:54:46 - cmdstanpy - INFO - Chain [1] done processing\n",
      "12:54:46 - cmdstanpy - INFO - Chain [1] start processing\n",
      "12:54:46 - cmdstanpy - INFO - Chain [1] done processing\n",
      "12:54:46 - cmdstanpy - INFO - Chain [1] start processing\n",
      "12:54:46 - cmdstanpy - INFO - Chain [1] done processing\n",
      "12:54:46 - cmdstanpy - INFO - Chain [1] start processing\n"
     ]
    },
    {
     "name": "stdout",
     "output_type": "stream",
     "text": [
      "Params: {'changepoint_prior_scale': 0.01, 'changepoint_range': 0.8, 'holidays_prior_scale': 0.1, 'n_changepoints': 25, 'seasonality_mode': 'additive', 'seasonality_prior_scale': 1.0}, Avg MAPE: 0.0773\n"
     ]
    },
    {
     "name": "stderr",
     "output_type": "stream",
     "text": [
      "12:54:47 - cmdstanpy - INFO - Chain [1] done processing\n",
      "12:54:47 - cmdstanpy - INFO - Chain [1] start processing\n",
      "12:54:47 - cmdstanpy - INFO - Chain [1] done processing\n",
      "12:54:47 - cmdstanpy - INFO - Chain [1] start processing\n",
      "12:54:47 - cmdstanpy - INFO - Chain [1] done processing\n",
      "12:54:47 - cmdstanpy - INFO - Chain [1] start processing\n"
     ]
    },
    {
     "name": "stdout",
     "output_type": "stream",
     "text": [
      "Params: {'changepoint_prior_scale': 0.01, 'changepoint_range': 0.8, 'holidays_prior_scale': 0.1, 'n_changepoints': 25, 'seasonality_mode': 'additive', 'seasonality_prior_scale': 10.0}, Avg MAPE: 0.0774\n"
     ]
    },
    {
     "name": "stderr",
     "output_type": "stream",
     "text": [
      "12:54:48 - cmdstanpy - INFO - Chain [1] done processing\n",
      "12:54:48 - cmdstanpy - INFO - Chain [1] start processing\n",
      "12:54:48 - cmdstanpy - INFO - Chain [1] done processing\n",
      "12:54:48 - cmdstanpy - INFO - Chain [1] start processing\n",
      "12:54:48 - cmdstanpy - INFO - Chain [1] done processing\n",
      "12:54:48 - cmdstanpy - INFO - Chain [1] start processing\n"
     ]
    },
    {
     "name": "stdout",
     "output_type": "stream",
     "text": [
      "Params: {'changepoint_prior_scale': 0.01, 'changepoint_range': 0.8, 'holidays_prior_scale': 0.1, 'n_changepoints': 25, 'seasonality_mode': 'multiplicative', 'seasonality_prior_scale': 1.0}, Avg MAPE: 0.0731\n"
     ]
    },
    {
     "name": "stderr",
     "output_type": "stream",
     "text": [
      "12:54:49 - cmdstanpy - INFO - Chain [1] done processing\n",
      "12:54:49 - cmdstanpy - INFO - Chain [1] start processing\n",
      "12:54:49 - cmdstanpy - INFO - Chain [1] done processing\n",
      "12:54:49 - cmdstanpy - INFO - Chain [1] start processing\n",
      "12:54:49 - cmdstanpy - INFO - Chain [1] done processing\n",
      "12:54:49 - cmdstanpy - INFO - Chain [1] start processing\n"
     ]
    },
    {
     "name": "stdout",
     "output_type": "stream",
     "text": [
      "Params: {'changepoint_prior_scale': 0.01, 'changepoint_range': 0.8, 'holidays_prior_scale': 0.1, 'n_changepoints': 25, 'seasonality_mode': 'multiplicative', 'seasonality_prior_scale': 10.0}, Avg MAPE: 0.0739\n"
     ]
    },
    {
     "name": "stderr",
     "output_type": "stream",
     "text": [
      "12:54:50 - cmdstanpy - INFO - Chain [1] done processing\n",
      "12:54:50 - cmdstanpy - INFO - Chain [1] start processing\n",
      "12:54:50 - cmdstanpy - INFO - Chain [1] done processing\n",
      "12:54:50 - cmdstanpy - INFO - Chain [1] start processing\n",
      "12:54:50 - cmdstanpy - INFO - Chain [1] done processing\n",
      "12:54:50 - cmdstanpy - INFO - Chain [1] start processing\n"
     ]
    },
    {
     "name": "stdout",
     "output_type": "stream",
     "text": [
      "Params: {'changepoint_prior_scale': 0.01, 'changepoint_range': 0.9, 'holidays_prior_scale': 0.01, 'n_changepoints': 15, 'seasonality_mode': 'additive', 'seasonality_prior_scale': 1.0}, Avg MAPE: 0.0766\n"
     ]
    },
    {
     "name": "stderr",
     "output_type": "stream",
     "text": [
      "12:54:50 - cmdstanpy - INFO - Chain [1] done processing\n",
      "12:54:51 - cmdstanpy - INFO - Chain [1] start processing\n",
      "12:54:51 - cmdstanpy - INFO - Chain [1] done processing\n",
      "12:54:51 - cmdstanpy - INFO - Chain [1] start processing\n",
      "12:54:51 - cmdstanpy - INFO - Chain [1] done processing\n",
      "12:54:51 - cmdstanpy - INFO - Chain [1] start processing\n"
     ]
    },
    {
     "name": "stdout",
     "output_type": "stream",
     "text": [
      "Params: {'changepoint_prior_scale': 0.01, 'changepoint_range': 0.9, 'holidays_prior_scale': 0.01, 'n_changepoints': 15, 'seasonality_mode': 'additive', 'seasonality_prior_scale': 10.0}, Avg MAPE: 0.0768\n"
     ]
    },
    {
     "name": "stderr",
     "output_type": "stream",
     "text": [
      "12:54:52 - cmdstanpy - INFO - Chain [1] done processing\n",
      "12:54:52 - cmdstanpy - INFO - Chain [1] start processing\n",
      "12:54:52 - cmdstanpy - INFO - Chain [1] done processing\n",
      "12:54:52 - cmdstanpy - INFO - Chain [1] start processing\n",
      "12:54:52 - cmdstanpy - INFO - Chain [1] done processing\n",
      "12:54:52 - cmdstanpy - INFO - Chain [1] start processing\n"
     ]
    },
    {
     "name": "stdout",
     "output_type": "stream",
     "text": [
      "Params: {'changepoint_prior_scale': 0.01, 'changepoint_range': 0.9, 'holidays_prior_scale': 0.01, 'n_changepoints': 15, 'seasonality_mode': 'multiplicative', 'seasonality_prior_scale': 1.0}, Avg MAPE: 0.0738\n"
     ]
    },
    {
     "name": "stderr",
     "output_type": "stream",
     "text": [
      "12:54:53 - cmdstanpy - INFO - Chain [1] done processing\n",
      "12:54:53 - cmdstanpy - INFO - Chain [1] start processing\n",
      "12:54:53 - cmdstanpy - INFO - Chain [1] done processing\n",
      "12:54:53 - cmdstanpy - INFO - Chain [1] start processing\n",
      "12:54:53 - cmdstanpy - INFO - Chain [1] done processing\n",
      "12:54:53 - cmdstanpy - INFO - Chain [1] start processing\n"
     ]
    },
    {
     "name": "stdout",
     "output_type": "stream",
     "text": [
      "Params: {'changepoint_prior_scale': 0.01, 'changepoint_range': 0.9, 'holidays_prior_scale': 0.01, 'n_changepoints': 15, 'seasonality_mode': 'multiplicative', 'seasonality_prior_scale': 10.0}, Avg MAPE: 0.0733\n"
     ]
    },
    {
     "name": "stderr",
     "output_type": "stream",
     "text": [
      "12:54:54 - cmdstanpy - INFO - Chain [1] done processing\n",
      "12:54:54 - cmdstanpy - INFO - Chain [1] start processing\n",
      "12:54:54 - cmdstanpy - INFO - Chain [1] done processing\n",
      "12:54:54 - cmdstanpy - INFO - Chain [1] start processing\n",
      "12:54:54 - cmdstanpy - INFO - Chain [1] done processing\n",
      "12:54:54 - cmdstanpy - INFO - Chain [1] start processing\n"
     ]
    },
    {
     "name": "stdout",
     "output_type": "stream",
     "text": [
      "Params: {'changepoint_prior_scale': 0.01, 'changepoint_range': 0.9, 'holidays_prior_scale': 0.01, 'n_changepoints': 25, 'seasonality_mode': 'additive', 'seasonality_prior_scale': 1.0}, Avg MAPE: 0.0771\n"
     ]
    },
    {
     "name": "stderr",
     "output_type": "stream",
     "text": [
      "12:54:55 - cmdstanpy - INFO - Chain [1] done processing\n",
      "12:54:55 - cmdstanpy - INFO - Chain [1] start processing\n",
      "12:54:55 - cmdstanpy - INFO - Chain [1] done processing\n",
      "12:54:55 - cmdstanpy - INFO - Chain [1] start processing\n",
      "12:54:55 - cmdstanpy - INFO - Chain [1] done processing\n",
      "12:54:55 - cmdstanpy - INFO - Chain [1] start processing\n"
     ]
    },
    {
     "name": "stdout",
     "output_type": "stream",
     "text": [
      "Params: {'changepoint_prior_scale': 0.01, 'changepoint_range': 0.9, 'holidays_prior_scale': 0.01, 'n_changepoints': 25, 'seasonality_mode': 'additive', 'seasonality_prior_scale': 10.0}, Avg MAPE: 0.0768\n"
     ]
    },
    {
     "name": "stderr",
     "output_type": "stream",
     "text": [
      "12:54:56 - cmdstanpy - INFO - Chain [1] done processing\n",
      "12:54:56 - cmdstanpy - INFO - Chain [1] start processing\n",
      "12:54:56 - cmdstanpy - INFO - Chain [1] done processing\n",
      "12:54:56 - cmdstanpy - INFO - Chain [1] start processing\n",
      "12:54:56 - cmdstanpy - INFO - Chain [1] done processing\n",
      "12:54:56 - cmdstanpy - INFO - Chain [1] start processing\n"
     ]
    },
    {
     "name": "stdout",
     "output_type": "stream",
     "text": [
      "Params: {'changepoint_prior_scale': 0.01, 'changepoint_range': 0.9, 'holidays_prior_scale': 0.01, 'n_changepoints': 25, 'seasonality_mode': 'multiplicative', 'seasonality_prior_scale': 1.0}, Avg MAPE: 0.0738\n"
     ]
    },
    {
     "name": "stderr",
     "output_type": "stream",
     "text": [
      "12:54:57 - cmdstanpy - INFO - Chain [1] done processing\n",
      "12:54:57 - cmdstanpy - INFO - Chain [1] start processing\n",
      "12:54:57 - cmdstanpy - INFO - Chain [1] done processing\n",
      "12:54:57 - cmdstanpy - INFO - Chain [1] start processing\n",
      "12:54:57 - cmdstanpy - INFO - Chain [1] done processing\n",
      "12:54:57 - cmdstanpy - INFO - Chain [1] start processing\n"
     ]
    },
    {
     "name": "stdout",
     "output_type": "stream",
     "text": [
      "Params: {'changepoint_prior_scale': 0.01, 'changepoint_range': 0.9, 'holidays_prior_scale': 0.01, 'n_changepoints': 25, 'seasonality_mode': 'multiplicative', 'seasonality_prior_scale': 10.0}, Avg MAPE: 0.0733\n"
     ]
    },
    {
     "name": "stderr",
     "output_type": "stream",
     "text": [
      "12:54:58 - cmdstanpy - INFO - Chain [1] done processing\n",
      "12:54:58 - cmdstanpy - INFO - Chain [1] start processing\n",
      "12:54:58 - cmdstanpy - INFO - Chain [1] done processing\n",
      "12:54:58 - cmdstanpy - INFO - Chain [1] start processing\n",
      "12:54:58 - cmdstanpy - INFO - Chain [1] done processing\n",
      "12:54:58 - cmdstanpy - INFO - Chain [1] start processing\n"
     ]
    },
    {
     "name": "stdout",
     "output_type": "stream",
     "text": [
      "Params: {'changepoint_prior_scale': 0.01, 'changepoint_range': 0.9, 'holidays_prior_scale': 0.1, 'n_changepoints': 15, 'seasonality_mode': 'additive', 'seasonality_prior_scale': 1.0}, Avg MAPE: 0.0766\n"
     ]
    },
    {
     "name": "stderr",
     "output_type": "stream",
     "text": [
      "12:54:58 - cmdstanpy - INFO - Chain [1] done processing\n",
      "12:54:58 - cmdstanpy - INFO - Chain [1] start processing\n",
      "12:54:59 - cmdstanpy - INFO - Chain [1] done processing\n",
      "12:54:59 - cmdstanpy - INFO - Chain [1] start processing\n",
      "12:54:59 - cmdstanpy - INFO - Chain [1] done processing\n",
      "12:54:59 - cmdstanpy - INFO - Chain [1] start processing\n"
     ]
    },
    {
     "name": "stdout",
     "output_type": "stream",
     "text": [
      "Params: {'changepoint_prior_scale': 0.01, 'changepoint_range': 0.9, 'holidays_prior_scale': 0.1, 'n_changepoints': 15, 'seasonality_mode': 'additive', 'seasonality_prior_scale': 10.0}, Avg MAPE: 0.0768\n"
     ]
    },
    {
     "name": "stderr",
     "output_type": "stream",
     "text": [
      "12:54:59 - cmdstanpy - INFO - Chain [1] done processing\n",
      "12:54:59 - cmdstanpy - INFO - Chain [1] start processing\n",
      "12:55:00 - cmdstanpy - INFO - Chain [1] done processing\n",
      "12:55:00 - cmdstanpy - INFO - Chain [1] start processing\n",
      "12:55:00 - cmdstanpy - INFO - Chain [1] done processing\n",
      "12:55:00 - cmdstanpy - INFO - Chain [1] start processing\n"
     ]
    },
    {
     "name": "stdout",
     "output_type": "stream",
     "text": [
      "Params: {'changepoint_prior_scale': 0.01, 'changepoint_range': 0.9, 'holidays_prior_scale': 0.1, 'n_changepoints': 15, 'seasonality_mode': 'multiplicative', 'seasonality_prior_scale': 1.0}, Avg MAPE: 0.0738\n"
     ]
    },
    {
     "name": "stderr",
     "output_type": "stream",
     "text": [
      "12:55:00 - cmdstanpy - INFO - Chain [1] done processing\n",
      "12:55:00 - cmdstanpy - INFO - Chain [1] start processing\n",
      "12:55:01 - cmdstanpy - INFO - Chain [1] done processing\n",
      "12:55:01 - cmdstanpy - INFO - Chain [1] start processing\n",
      "12:55:01 - cmdstanpy - INFO - Chain [1] done processing\n",
      "12:55:01 - cmdstanpy - INFO - Chain [1] start processing\n",
      "12:55:01 - cmdstanpy - INFO - Chain [1] done processing\n"
     ]
    },
    {
     "name": "stdout",
     "output_type": "stream",
     "text": [
      "Params: {'changepoint_prior_scale': 0.01, 'changepoint_range': 0.9, 'holidays_prior_scale': 0.1, 'n_changepoints': 15, 'seasonality_mode': 'multiplicative', 'seasonality_prior_scale': 10.0}, Avg MAPE: 0.0733\n"
     ]
    },
    {
     "name": "stderr",
     "output_type": "stream",
     "text": [
      "12:55:01 - cmdstanpy - INFO - Chain [1] start processing\n",
      "12:55:02 - cmdstanpy - INFO - Chain [1] done processing\n",
      "12:55:02 - cmdstanpy - INFO - Chain [1] start processing\n",
      "12:55:02 - cmdstanpy - INFO - Chain [1] done processing\n",
      "12:55:02 - cmdstanpy - INFO - Chain [1] start processing\n"
     ]
    },
    {
     "name": "stdout",
     "output_type": "stream",
     "text": [
      "Params: {'changepoint_prior_scale': 0.01, 'changepoint_range': 0.9, 'holidays_prior_scale': 0.1, 'n_changepoints': 25, 'seasonality_mode': 'additive', 'seasonality_prior_scale': 1.0}, Avg MAPE: 0.0771\n"
     ]
    },
    {
     "name": "stderr",
     "output_type": "stream",
     "text": [
      "12:55:02 - cmdstanpy - INFO - Chain [1] done processing\n",
      "12:55:02 - cmdstanpy - INFO - Chain [1] start processing\n",
      "12:55:02 - cmdstanpy - INFO - Chain [1] done processing\n",
      "12:55:02 - cmdstanpy - INFO - Chain [1] start processing\n",
      "12:55:02 - cmdstanpy - INFO - Chain [1] done processing\n",
      "12:55:03 - cmdstanpy - INFO - Chain [1] start processing\n"
     ]
    },
    {
     "name": "stdout",
     "output_type": "stream",
     "text": [
      "Params: {'changepoint_prior_scale': 0.01, 'changepoint_range': 0.9, 'holidays_prior_scale': 0.1, 'n_changepoints': 25, 'seasonality_mode': 'additive', 'seasonality_prior_scale': 10.0}, Avg MAPE: 0.0768\n"
     ]
    },
    {
     "name": "stderr",
     "output_type": "stream",
     "text": [
      "12:55:03 - cmdstanpy - INFO - Chain [1] done processing\n",
      "12:55:03 - cmdstanpy - INFO - Chain [1] start processing\n",
      "12:55:03 - cmdstanpy - INFO - Chain [1] done processing\n",
      "12:55:03 - cmdstanpy - INFO - Chain [1] start processing\n",
      "12:55:03 - cmdstanpy - INFO - Chain [1] done processing\n",
      "12:55:04 - cmdstanpy - INFO - Chain [1] start processing\n"
     ]
    },
    {
     "name": "stdout",
     "output_type": "stream",
     "text": [
      "Params: {'changepoint_prior_scale': 0.01, 'changepoint_range': 0.9, 'holidays_prior_scale': 0.1, 'n_changepoints': 25, 'seasonality_mode': 'multiplicative', 'seasonality_prior_scale': 1.0}, Avg MAPE: 0.0738\n"
     ]
    },
    {
     "name": "stderr",
     "output_type": "stream",
     "text": [
      "12:55:04 - cmdstanpy - INFO - Chain [1] done processing\n",
      "12:55:04 - cmdstanpy - INFO - Chain [1] start processing\n",
      "12:55:04 - cmdstanpy - INFO - Chain [1] done processing\n",
      "12:55:04 - cmdstanpy - INFO - Chain [1] start processing\n",
      "12:55:04 - cmdstanpy - INFO - Chain [1] done processing\n",
      "12:55:04 - cmdstanpy - INFO - Chain [1] start processing\n"
     ]
    },
    {
     "name": "stdout",
     "output_type": "stream",
     "text": [
      "Params: {'changepoint_prior_scale': 0.01, 'changepoint_range': 0.9, 'holidays_prior_scale': 0.1, 'n_changepoints': 25, 'seasonality_mode': 'multiplicative', 'seasonality_prior_scale': 10.0}, Avg MAPE: 0.0733\n"
     ]
    },
    {
     "name": "stderr",
     "output_type": "stream",
     "text": [
      "12:55:05 - cmdstanpy - INFO - Chain [1] done processing\n",
      "12:55:05 - cmdstanpy - INFO - Chain [1] start processing\n",
      "12:55:05 - cmdstanpy - INFO - Chain [1] done processing\n",
      "12:55:05 - cmdstanpy - INFO - Chain [1] start processing\n",
      "12:55:05 - cmdstanpy - INFO - Chain [1] done processing\n",
      "12:55:05 - cmdstanpy - INFO - Chain [1] start processing\n"
     ]
    },
    {
     "name": "stdout",
     "output_type": "stream",
     "text": [
      "Params: {'changepoint_prior_scale': 0.1, 'changepoint_range': 0.8, 'holidays_prior_scale': 0.01, 'n_changepoints': 15, 'seasonality_mode': 'additive', 'seasonality_prior_scale': 1.0}, Avg MAPE: 0.0966\n"
     ]
    },
    {
     "name": "stderr",
     "output_type": "stream",
     "text": [
      "12:55:06 - cmdstanpy - INFO - Chain [1] done processing\n",
      "12:55:06 - cmdstanpy - INFO - Chain [1] start processing\n",
      "12:55:06 - cmdstanpy - INFO - Chain [1] done processing\n",
      "12:55:06 - cmdstanpy - INFO - Chain [1] start processing\n",
      "12:55:06 - cmdstanpy - INFO - Chain [1] done processing\n",
      "12:55:06 - cmdstanpy - INFO - Chain [1] start processing\n"
     ]
    },
    {
     "name": "stdout",
     "output_type": "stream",
     "text": [
      "Params: {'changepoint_prior_scale': 0.1, 'changepoint_range': 0.8, 'holidays_prior_scale': 0.01, 'n_changepoints': 15, 'seasonality_mode': 'additive', 'seasonality_prior_scale': 10.0}, Avg MAPE: 0.0966\n"
     ]
    },
    {
     "name": "stderr",
     "output_type": "stream",
     "text": [
      "12:55:07 - cmdstanpy - INFO - Chain [1] done processing\n",
      "12:55:07 - cmdstanpy - INFO - Chain [1] start processing\n",
      "12:55:07 - cmdstanpy - INFO - Chain [1] done processing\n",
      "12:55:07 - cmdstanpy - INFO - Chain [1] start processing\n",
      "12:55:07 - cmdstanpy - INFO - Chain [1] done processing\n",
      "12:55:07 - cmdstanpy - INFO - Chain [1] start processing\n"
     ]
    },
    {
     "name": "stdout",
     "output_type": "stream",
     "text": [
      "Params: {'changepoint_prior_scale': 0.1, 'changepoint_range': 0.8, 'holidays_prior_scale': 0.01, 'n_changepoints': 15, 'seasonality_mode': 'multiplicative', 'seasonality_prior_scale': 1.0}, Avg MAPE: 0.0861\n"
     ]
    },
    {
     "name": "stderr",
     "output_type": "stream",
     "text": [
      "12:55:08 - cmdstanpy - INFO - Chain [1] done processing\n",
      "12:55:08 - cmdstanpy - INFO - Chain [1] start processing\n",
      "12:55:08 - cmdstanpy - INFO - Chain [1] done processing\n",
      "12:55:08 - cmdstanpy - INFO - Chain [1] start processing\n",
      "12:55:08 - cmdstanpy - INFO - Chain [1] done processing\n",
      "12:55:08 - cmdstanpy - INFO - Chain [1] start processing\n"
     ]
    },
    {
     "name": "stdout",
     "output_type": "stream",
     "text": [
      "Params: {'changepoint_prior_scale': 0.1, 'changepoint_range': 0.8, 'holidays_prior_scale': 0.01, 'n_changepoints': 15, 'seasonality_mode': 'multiplicative', 'seasonality_prior_scale': 10.0}, Avg MAPE: 0.0855\n"
     ]
    },
    {
     "name": "stderr",
     "output_type": "stream",
     "text": [
      "12:55:09 - cmdstanpy - INFO - Chain [1] done processing\n",
      "12:55:09 - cmdstanpy - INFO - Chain [1] start processing\n",
      "12:55:09 - cmdstanpy - INFO - Chain [1] done processing\n",
      "12:55:09 - cmdstanpy - INFO - Chain [1] start processing\n",
      "12:55:09 - cmdstanpy - INFO - Chain [1] done processing\n",
      "12:55:09 - cmdstanpy - INFO - Chain [1] start processing\n"
     ]
    },
    {
     "name": "stdout",
     "output_type": "stream",
     "text": [
      "Params: {'changepoint_prior_scale': 0.1, 'changepoint_range': 0.8, 'holidays_prior_scale': 0.01, 'n_changepoints': 25, 'seasonality_mode': 'additive', 'seasonality_prior_scale': 1.0}, Avg MAPE: 0.0987\n"
     ]
    },
    {
     "name": "stderr",
     "output_type": "stream",
     "text": [
      "12:55:10 - cmdstanpy - INFO - Chain [1] done processing\n",
      "12:55:10 - cmdstanpy - INFO - Chain [1] start processing\n",
      "12:55:10 - cmdstanpy - INFO - Chain [1] done processing\n",
      "12:55:10 - cmdstanpy - INFO - Chain [1] start processing\n",
      "12:55:10 - cmdstanpy - INFO - Chain [1] done processing\n",
      "12:55:10 - cmdstanpy - INFO - Chain [1] start processing\n"
     ]
    },
    {
     "name": "stdout",
     "output_type": "stream",
     "text": [
      "Params: {'changepoint_prior_scale': 0.1, 'changepoint_range': 0.8, 'holidays_prior_scale': 0.01, 'n_changepoints': 25, 'seasonality_mode': 'additive', 'seasonality_prior_scale': 10.0}, Avg MAPE: 0.0984\n"
     ]
    },
    {
     "name": "stderr",
     "output_type": "stream",
     "text": [
      "12:55:11 - cmdstanpy - INFO - Chain [1] done processing\n",
      "12:55:11 - cmdstanpy - INFO - Chain [1] start processing\n",
      "12:55:11 - cmdstanpy - INFO - Chain [1] done processing\n",
      "12:55:11 - cmdstanpy - INFO - Chain [1] start processing\n",
      "12:55:11 - cmdstanpy - INFO - Chain [1] done processing\n",
      "12:55:11 - cmdstanpy - INFO - Chain [1] start processing\n"
     ]
    },
    {
     "name": "stdout",
     "output_type": "stream",
     "text": [
      "Params: {'changepoint_prior_scale': 0.1, 'changepoint_range': 0.8, 'holidays_prior_scale': 0.01, 'n_changepoints': 25, 'seasonality_mode': 'multiplicative', 'seasonality_prior_scale': 1.0}, Avg MAPE: 0.0862\n"
     ]
    },
    {
     "name": "stderr",
     "output_type": "stream",
     "text": [
      "12:55:12 - cmdstanpy - INFO - Chain [1] done processing\n",
      "12:55:12 - cmdstanpy - INFO - Chain [1] start processing\n",
      "12:55:12 - cmdstanpy - INFO - Chain [1] done processing\n",
      "12:55:12 - cmdstanpy - INFO - Chain [1] start processing\n",
      "12:55:12 - cmdstanpy - INFO - Chain [1] done processing\n",
      "12:55:13 - cmdstanpy - INFO - Chain [1] start processing\n"
     ]
    },
    {
     "name": "stdout",
     "output_type": "stream",
     "text": [
      "Params: {'changepoint_prior_scale': 0.1, 'changepoint_range': 0.8, 'holidays_prior_scale': 0.01, 'n_changepoints': 25, 'seasonality_mode': 'multiplicative', 'seasonality_prior_scale': 10.0}, Avg MAPE: 0.0866\n"
     ]
    },
    {
     "name": "stderr",
     "output_type": "stream",
     "text": [
      "12:55:13 - cmdstanpy - INFO - Chain [1] done processing\n",
      "12:55:13 - cmdstanpy - INFO - Chain [1] start processing\n",
      "12:55:13 - cmdstanpy - INFO - Chain [1] done processing\n",
      "12:55:13 - cmdstanpy - INFO - Chain [1] start processing\n",
      "12:55:13 - cmdstanpy - INFO - Chain [1] done processing\n",
      "12:55:14 - cmdstanpy - INFO - Chain [1] start processing\n"
     ]
    },
    {
     "name": "stdout",
     "output_type": "stream",
     "text": [
      "Params: {'changepoint_prior_scale': 0.1, 'changepoint_range': 0.8, 'holidays_prior_scale': 0.1, 'n_changepoints': 15, 'seasonality_mode': 'additive', 'seasonality_prior_scale': 1.0}, Avg MAPE: 0.0966\n"
     ]
    },
    {
     "name": "stderr",
     "output_type": "stream",
     "text": [
      "12:55:14 - cmdstanpy - INFO - Chain [1] done processing\n",
      "12:55:14 - cmdstanpy - INFO - Chain [1] start processing\n",
      "12:55:14 - cmdstanpy - INFO - Chain [1] done processing\n",
      "12:55:14 - cmdstanpy - INFO - Chain [1] start processing\n",
      "12:55:14 - cmdstanpy - INFO - Chain [1] done processing\n",
      "12:55:14 - cmdstanpy - INFO - Chain [1] start processing\n"
     ]
    },
    {
     "name": "stdout",
     "output_type": "stream",
     "text": [
      "Params: {'changepoint_prior_scale': 0.1, 'changepoint_range': 0.8, 'holidays_prior_scale': 0.1, 'n_changepoints': 15, 'seasonality_mode': 'additive', 'seasonality_prior_scale': 10.0}, Avg MAPE: 0.0966\n"
     ]
    },
    {
     "name": "stderr",
     "output_type": "stream",
     "text": [
      "12:55:15 - cmdstanpy - INFO - Chain [1] done processing\n",
      "12:55:15 - cmdstanpy - INFO - Chain [1] start processing\n",
      "12:55:15 - cmdstanpy - INFO - Chain [1] done processing\n",
      "12:55:15 - cmdstanpy - INFO - Chain [1] start processing\n",
      "12:55:15 - cmdstanpy - INFO - Chain [1] done processing\n",
      "12:55:15 - cmdstanpy - INFO - Chain [1] start processing\n"
     ]
    },
    {
     "name": "stdout",
     "output_type": "stream",
     "text": [
      "Params: {'changepoint_prior_scale': 0.1, 'changepoint_range': 0.8, 'holidays_prior_scale': 0.1, 'n_changepoints': 15, 'seasonality_mode': 'multiplicative', 'seasonality_prior_scale': 1.0}, Avg MAPE: 0.0861\n"
     ]
    },
    {
     "name": "stderr",
     "output_type": "stream",
     "text": [
      "12:55:16 - cmdstanpy - INFO - Chain [1] done processing\n",
      "12:55:16 - cmdstanpy - INFO - Chain [1] start processing\n",
      "12:55:16 - cmdstanpy - INFO - Chain [1] done processing\n",
      "12:55:16 - cmdstanpy - INFO - Chain [1] start processing\n",
      "12:55:16 - cmdstanpy - INFO - Chain [1] done processing\n",
      "12:55:16 - cmdstanpy - INFO - Chain [1] start processing\n"
     ]
    },
    {
     "name": "stdout",
     "output_type": "stream",
     "text": [
      "Params: {'changepoint_prior_scale': 0.1, 'changepoint_range': 0.8, 'holidays_prior_scale': 0.1, 'n_changepoints': 15, 'seasonality_mode': 'multiplicative', 'seasonality_prior_scale': 10.0}, Avg MAPE: 0.0855\n"
     ]
    },
    {
     "name": "stderr",
     "output_type": "stream",
     "text": [
      "12:55:17 - cmdstanpy - INFO - Chain [1] done processing\n",
      "12:55:17 - cmdstanpy - INFO - Chain [1] start processing\n",
      "12:55:17 - cmdstanpy - INFO - Chain [1] done processing\n",
      "12:55:17 - cmdstanpy - INFO - Chain [1] start processing\n",
      "12:55:17 - cmdstanpy - INFO - Chain [1] done processing\n",
      "12:55:17 - cmdstanpy - INFO - Chain [1] start processing\n"
     ]
    },
    {
     "name": "stdout",
     "output_type": "stream",
     "text": [
      "Params: {'changepoint_prior_scale': 0.1, 'changepoint_range': 0.8, 'holidays_prior_scale': 0.1, 'n_changepoints': 25, 'seasonality_mode': 'additive', 'seasonality_prior_scale': 1.0}, Avg MAPE: 0.0987\n"
     ]
    },
    {
     "name": "stderr",
     "output_type": "stream",
     "text": [
      "12:55:18 - cmdstanpy - INFO - Chain [1] done processing\n",
      "12:55:18 - cmdstanpy - INFO - Chain [1] start processing\n",
      "12:55:18 - cmdstanpy - INFO - Chain [1] done processing\n",
      "12:55:18 - cmdstanpy - INFO - Chain [1] start processing\n",
      "12:55:18 - cmdstanpy - INFO - Chain [1] done processing\n",
      "12:55:18 - cmdstanpy - INFO - Chain [1] start processing\n"
     ]
    },
    {
     "name": "stdout",
     "output_type": "stream",
     "text": [
      "Params: {'changepoint_prior_scale': 0.1, 'changepoint_range': 0.8, 'holidays_prior_scale': 0.1, 'n_changepoints': 25, 'seasonality_mode': 'additive', 'seasonality_prior_scale': 10.0}, Avg MAPE: 0.0984\n"
     ]
    },
    {
     "name": "stderr",
     "output_type": "stream",
     "text": [
      "12:55:19 - cmdstanpy - INFO - Chain [1] done processing\n",
      "12:55:19 - cmdstanpy - INFO - Chain [1] start processing\n",
      "12:55:19 - cmdstanpy - INFO - Chain [1] done processing\n",
      "12:55:19 - cmdstanpy - INFO - Chain [1] start processing\n",
      "12:55:19 - cmdstanpy - INFO - Chain [1] done processing\n",
      "12:55:19 - cmdstanpy - INFO - Chain [1] start processing\n"
     ]
    },
    {
     "name": "stdout",
     "output_type": "stream",
     "text": [
      "Params: {'changepoint_prior_scale': 0.1, 'changepoint_range': 0.8, 'holidays_prior_scale': 0.1, 'n_changepoints': 25, 'seasonality_mode': 'multiplicative', 'seasonality_prior_scale': 1.0}, Avg MAPE: 0.0862\n"
     ]
    },
    {
     "name": "stderr",
     "output_type": "stream",
     "text": [
      "12:55:20 - cmdstanpy - INFO - Chain [1] done processing\n",
      "12:55:20 - cmdstanpy - INFO - Chain [1] start processing\n",
      "12:55:20 - cmdstanpy - INFO - Chain [1] done processing\n",
      "12:55:20 - cmdstanpy - INFO - Chain [1] start processing\n",
      "12:55:20 - cmdstanpy - INFO - Chain [1] done processing\n",
      "12:55:20 - cmdstanpy - INFO - Chain [1] start processing\n"
     ]
    },
    {
     "name": "stdout",
     "output_type": "stream",
     "text": [
      "Params: {'changepoint_prior_scale': 0.1, 'changepoint_range': 0.8, 'holidays_prior_scale': 0.1, 'n_changepoints': 25, 'seasonality_mode': 'multiplicative', 'seasonality_prior_scale': 10.0}, Avg MAPE: 0.0866\n"
     ]
    },
    {
     "name": "stderr",
     "output_type": "stream",
     "text": [
      "12:55:21 - cmdstanpy - INFO - Chain [1] done processing\n",
      "12:55:21 - cmdstanpy - INFO - Chain [1] start processing\n",
      "12:55:21 - cmdstanpy - INFO - Chain [1] done processing\n",
      "12:55:21 - cmdstanpy - INFO - Chain [1] start processing\n",
      "12:55:21 - cmdstanpy - INFO - Chain [1] done processing\n",
      "12:55:21 - cmdstanpy - INFO - Chain [1] start processing\n"
     ]
    },
    {
     "name": "stdout",
     "output_type": "stream",
     "text": [
      "Params: {'changepoint_prior_scale': 0.1, 'changepoint_range': 0.9, 'holidays_prior_scale': 0.01, 'n_changepoints': 15, 'seasonality_mode': 'additive', 'seasonality_prior_scale': 1.0}, Avg MAPE: 0.1020\n"
     ]
    },
    {
     "name": "stderr",
     "output_type": "stream",
     "text": [
      "12:55:22 - cmdstanpy - INFO - Chain [1] done processing\n",
      "12:55:22 - cmdstanpy - INFO - Chain [1] start processing\n",
      "12:55:22 - cmdstanpy - INFO - Chain [1] done processing\n",
      "12:55:22 - cmdstanpy - INFO - Chain [1] start processing\n",
      "12:55:22 - cmdstanpy - INFO - Chain [1] done processing\n",
      "12:55:22 - cmdstanpy - INFO - Chain [1] start processing\n"
     ]
    },
    {
     "name": "stdout",
     "output_type": "stream",
     "text": [
      "Params: {'changepoint_prior_scale': 0.1, 'changepoint_range': 0.9, 'holidays_prior_scale': 0.01, 'n_changepoints': 15, 'seasonality_mode': 'additive', 'seasonality_prior_scale': 10.0}, Avg MAPE: 0.1016\n"
     ]
    },
    {
     "name": "stderr",
     "output_type": "stream",
     "text": [
      "12:55:23 - cmdstanpy - INFO - Chain [1] done processing\n",
      "12:55:23 - cmdstanpy - INFO - Chain [1] start processing\n",
      "12:55:23 - cmdstanpy - INFO - Chain [1] done processing\n",
      "12:55:23 - cmdstanpy - INFO - Chain [1] start processing\n",
      "12:55:23 - cmdstanpy - INFO - Chain [1] done processing\n",
      "12:55:23 - cmdstanpy - INFO - Chain [1] start processing\n"
     ]
    },
    {
     "name": "stdout",
     "output_type": "stream",
     "text": [
      "Params: {'changepoint_prior_scale': 0.1, 'changepoint_range': 0.9, 'holidays_prior_scale': 0.01, 'n_changepoints': 15, 'seasonality_mode': 'multiplicative', 'seasonality_prior_scale': 1.0}, Avg MAPE: 0.0664\n"
     ]
    },
    {
     "name": "stderr",
     "output_type": "stream",
     "text": [
      "12:55:24 - cmdstanpy - INFO - Chain [1] done processing\n",
      "12:55:24 - cmdstanpy - INFO - Chain [1] start processing\n",
      "12:55:24 - cmdstanpy - INFO - Chain [1] done processing\n",
      "12:55:24 - cmdstanpy - INFO - Chain [1] start processing\n",
      "12:55:24 - cmdstanpy - INFO - Chain [1] done processing\n",
      "12:55:24 - cmdstanpy - INFO - Chain [1] start processing\n"
     ]
    },
    {
     "name": "stdout",
     "output_type": "stream",
     "text": [
      "Params: {'changepoint_prior_scale': 0.1, 'changepoint_range': 0.9, 'holidays_prior_scale': 0.01, 'n_changepoints': 15, 'seasonality_mode': 'multiplicative', 'seasonality_prior_scale': 10.0}, Avg MAPE: 0.0639\n"
     ]
    },
    {
     "name": "stderr",
     "output_type": "stream",
     "text": [
      "12:55:25 - cmdstanpy - INFO - Chain [1] done processing\n",
      "12:55:25 - cmdstanpy - INFO - Chain [1] start processing\n",
      "12:55:25 - cmdstanpy - INFO - Chain [1] done processing\n",
      "12:55:25 - cmdstanpy - INFO - Chain [1] start processing\n",
      "12:55:25 - cmdstanpy - INFO - Chain [1] done processing\n",
      "12:55:25 - cmdstanpy - INFO - Chain [1] start processing\n"
     ]
    },
    {
     "name": "stdout",
     "output_type": "stream",
     "text": [
      "Params: {'changepoint_prior_scale': 0.1, 'changepoint_range': 0.9, 'holidays_prior_scale': 0.01, 'n_changepoints': 25, 'seasonality_mode': 'additive', 'seasonality_prior_scale': 1.0}, Avg MAPE: 0.0980\n"
     ]
    },
    {
     "name": "stderr",
     "output_type": "stream",
     "text": [
      "12:55:26 - cmdstanpy - INFO - Chain [1] done processing\n",
      "12:55:26 - cmdstanpy - INFO - Chain [1] start processing\n",
      "12:55:26 - cmdstanpy - INFO - Chain [1] done processing\n",
      "12:55:26 - cmdstanpy - INFO - Chain [1] start processing\n",
      "12:55:26 - cmdstanpy - INFO - Chain [1] done processing\n",
      "12:55:26 - cmdstanpy - INFO - Chain [1] start processing\n"
     ]
    },
    {
     "name": "stdout",
     "output_type": "stream",
     "text": [
      "Params: {'changepoint_prior_scale': 0.1, 'changepoint_range': 0.9, 'holidays_prior_scale': 0.01, 'n_changepoints': 25, 'seasonality_mode': 'additive', 'seasonality_prior_scale': 10.0}, Avg MAPE: 0.0989\n"
     ]
    },
    {
     "name": "stderr",
     "output_type": "stream",
     "text": [
      "12:55:26 - cmdstanpy - INFO - Chain [1] done processing\n",
      "12:55:26 - cmdstanpy - INFO - Chain [1] start processing\n",
      "12:55:27 - cmdstanpy - INFO - Chain [1] done processing\n",
      "12:55:27 - cmdstanpy - INFO - Chain [1] start processing\n",
      "12:55:27 - cmdstanpy - INFO - Chain [1] done processing\n",
      "12:55:27 - cmdstanpy - INFO - Chain [1] start processing\n"
     ]
    },
    {
     "name": "stdout",
     "output_type": "stream",
     "text": [
      "Params: {'changepoint_prior_scale': 0.1, 'changepoint_range': 0.9, 'holidays_prior_scale': 0.01, 'n_changepoints': 25, 'seasonality_mode': 'multiplicative', 'seasonality_prior_scale': 1.0}, Avg MAPE: 0.0668\n"
     ]
    },
    {
     "name": "stderr",
     "output_type": "stream",
     "text": [
      "12:55:27 - cmdstanpy - INFO - Chain [1] done processing\n",
      "12:55:28 - cmdstanpy - INFO - Chain [1] start processing\n",
      "12:55:28 - cmdstanpy - INFO - Chain [1] done processing\n",
      "12:55:28 - cmdstanpy - INFO - Chain [1] start processing\n",
      "12:55:28 - cmdstanpy - INFO - Chain [1] done processing\n",
      "12:55:28 - cmdstanpy - INFO - Chain [1] start processing\n"
     ]
    },
    {
     "name": "stdout",
     "output_type": "stream",
     "text": [
      "Params: {'changepoint_prior_scale': 0.1, 'changepoint_range': 0.9, 'holidays_prior_scale': 0.01, 'n_changepoints': 25, 'seasonality_mode': 'multiplicative', 'seasonality_prior_scale': 10.0}, Avg MAPE: 0.0677\n"
     ]
    },
    {
     "name": "stderr",
     "output_type": "stream",
     "text": [
      "12:55:29 - cmdstanpy - INFO - Chain [1] done processing\n",
      "12:55:29 - cmdstanpy - INFO - Chain [1] start processing\n",
      "12:55:29 - cmdstanpy - INFO - Chain [1] done processing\n",
      "12:55:29 - cmdstanpy - INFO - Chain [1] start processing\n",
      "12:55:29 - cmdstanpy - INFO - Chain [1] done processing\n",
      "12:55:29 - cmdstanpy - INFO - Chain [1] start processing\n"
     ]
    },
    {
     "name": "stdout",
     "output_type": "stream",
     "text": [
      "Params: {'changepoint_prior_scale': 0.1, 'changepoint_range': 0.9, 'holidays_prior_scale': 0.1, 'n_changepoints': 15, 'seasonality_mode': 'additive', 'seasonality_prior_scale': 1.0}, Avg MAPE: 0.1020\n"
     ]
    },
    {
     "name": "stderr",
     "output_type": "stream",
     "text": [
      "12:55:29 - cmdstanpy - INFO - Chain [1] done processing\n",
      "12:55:29 - cmdstanpy - INFO - Chain [1] start processing\n",
      "12:55:30 - cmdstanpy - INFO - Chain [1] done processing\n",
      "12:55:30 - cmdstanpy - INFO - Chain [1] start processing\n",
      "12:55:30 - cmdstanpy - INFO - Chain [1] done processing\n",
      "12:55:30 - cmdstanpy - INFO - Chain [1] start processing\n"
     ]
    },
    {
     "name": "stdout",
     "output_type": "stream",
     "text": [
      "Params: {'changepoint_prior_scale': 0.1, 'changepoint_range': 0.9, 'holidays_prior_scale': 0.1, 'n_changepoints': 15, 'seasonality_mode': 'additive', 'seasonality_prior_scale': 10.0}, Avg MAPE: 0.1016\n"
     ]
    },
    {
     "name": "stderr",
     "output_type": "stream",
     "text": [
      "12:55:30 - cmdstanpy - INFO - Chain [1] done processing\n",
      "12:55:30 - cmdstanpy - INFO - Chain [1] start processing\n",
      "12:55:31 - cmdstanpy - INFO - Chain [1] done processing\n",
      "12:55:31 - cmdstanpy - INFO - Chain [1] start processing\n",
      "12:55:31 - cmdstanpy - INFO - Chain [1] done processing\n",
      "12:55:31 - cmdstanpy - INFO - Chain [1] start processing\n"
     ]
    },
    {
     "name": "stdout",
     "output_type": "stream",
     "text": [
      "Params: {'changepoint_prior_scale': 0.1, 'changepoint_range': 0.9, 'holidays_prior_scale': 0.1, 'n_changepoints': 15, 'seasonality_mode': 'multiplicative', 'seasonality_prior_scale': 1.0}, Avg MAPE: 0.0664\n"
     ]
    },
    {
     "name": "stderr",
     "output_type": "stream",
     "text": [
      "12:55:31 - cmdstanpy - INFO - Chain [1] done processing\n",
      "12:55:31 - cmdstanpy - INFO - Chain [1] start processing\n",
      "12:55:32 - cmdstanpy - INFO - Chain [1] done processing\n",
      "12:55:32 - cmdstanpy - INFO - Chain [1] start processing\n",
      "12:55:32 - cmdstanpy - INFO - Chain [1] done processing\n",
      "12:55:32 - cmdstanpy - INFO - Chain [1] start processing\n"
     ]
    },
    {
     "name": "stdout",
     "output_type": "stream",
     "text": [
      "Params: {'changepoint_prior_scale': 0.1, 'changepoint_range': 0.9, 'holidays_prior_scale': 0.1, 'n_changepoints': 15, 'seasonality_mode': 'multiplicative', 'seasonality_prior_scale': 10.0}, Avg MAPE: 0.0639\n"
     ]
    },
    {
     "name": "stderr",
     "output_type": "stream",
     "text": [
      "12:55:32 - cmdstanpy - INFO - Chain [1] done processing\n",
      "12:55:32 - cmdstanpy - INFO - Chain [1] start processing\n",
      "12:55:33 - cmdstanpy - INFO - Chain [1] done processing\n",
      "12:55:33 - cmdstanpy - INFO - Chain [1] start processing\n",
      "12:55:33 - cmdstanpy - INFO - Chain [1] done processing\n",
      "12:55:33 - cmdstanpy - INFO - Chain [1] start processing\n"
     ]
    },
    {
     "name": "stdout",
     "output_type": "stream",
     "text": [
      "Params: {'changepoint_prior_scale': 0.1, 'changepoint_range': 0.9, 'holidays_prior_scale': 0.1, 'n_changepoints': 25, 'seasonality_mode': 'additive', 'seasonality_prior_scale': 1.0}, Avg MAPE: 0.0980\n"
     ]
    },
    {
     "name": "stderr",
     "output_type": "stream",
     "text": [
      "12:55:33 - cmdstanpy - INFO - Chain [1] done processing\n",
      "12:55:33 - cmdstanpy - INFO - Chain [1] start processing\n",
      "12:55:34 - cmdstanpy - INFO - Chain [1] done processing\n",
      "12:55:34 - cmdstanpy - INFO - Chain [1] start processing\n",
      "12:55:34 - cmdstanpy - INFO - Chain [1] done processing\n",
      "12:55:34 - cmdstanpy - INFO - Chain [1] start processing\n"
     ]
    },
    {
     "name": "stdout",
     "output_type": "stream",
     "text": [
      "Params: {'changepoint_prior_scale': 0.1, 'changepoint_range': 0.9, 'holidays_prior_scale': 0.1, 'n_changepoints': 25, 'seasonality_mode': 'additive', 'seasonality_prior_scale': 10.0}, Avg MAPE: 0.0989\n"
     ]
    },
    {
     "name": "stderr",
     "output_type": "stream",
     "text": [
      "12:55:34 - cmdstanpy - INFO - Chain [1] done processing\n",
      "12:55:34 - cmdstanpy - INFO - Chain [1] start processing\n",
      "12:55:35 - cmdstanpy - INFO - Chain [1] done processing\n",
      "12:55:35 - cmdstanpy - INFO - Chain [1] start processing\n",
      "12:55:35 - cmdstanpy - INFO - Chain [1] done processing\n",
      "12:55:35 - cmdstanpy - INFO - Chain [1] start processing\n"
     ]
    },
    {
     "name": "stdout",
     "output_type": "stream",
     "text": [
      "Params: {'changepoint_prior_scale': 0.1, 'changepoint_range': 0.9, 'holidays_prior_scale': 0.1, 'n_changepoints': 25, 'seasonality_mode': 'multiplicative', 'seasonality_prior_scale': 1.0}, Avg MAPE: 0.0668\n"
     ]
    },
    {
     "name": "stderr",
     "output_type": "stream",
     "text": [
      "12:55:36 - cmdstanpy - INFO - Chain [1] done processing\n",
      "12:55:36 - cmdstanpy - INFO - Chain [1] start processing\n",
      "12:55:36 - cmdstanpy - INFO - Chain [1] done processing\n",
      "12:55:36 - cmdstanpy - INFO - Chain [1] start processing\n",
      "12:55:36 - cmdstanpy - INFO - Chain [1] done processing\n",
      "12:55:36 - cmdstanpy - INFO - Chain [1] start processing\n"
     ]
    },
    {
     "name": "stdout",
     "output_type": "stream",
     "text": [
      "Params: {'changepoint_prior_scale': 0.1, 'changepoint_range': 0.9, 'holidays_prior_scale': 0.1, 'n_changepoints': 25, 'seasonality_mode': 'multiplicative', 'seasonality_prior_scale': 10.0}, Avg MAPE: 0.0677\n"
     ]
    },
    {
     "name": "stderr",
     "output_type": "stream",
     "text": [
      "12:55:45 - cmdstanpy - INFO - Chain [1] done processing\n",
      "12:55:45 - cmdstanpy - INFO - Chain [1] start processing\n",
      "12:55:45 - cmdstanpy - INFO - Chain [1] done processing\n",
      "12:55:45 - cmdstanpy - INFO - Chain [1] start processing\n",
      "12:55:45 - cmdstanpy - INFO - Chain [1] done processing\n",
      "12:55:45 - cmdstanpy - INFO - Chain [1] start processing\n"
     ]
    },
    {
     "name": "stdout",
     "output_type": "stream",
     "text": [
      "Params: {'changepoint_prior_scale': 0.5, 'changepoint_range': 0.8, 'holidays_prior_scale': 0.01, 'n_changepoints': 15, 'seasonality_mode': 'additive', 'seasonality_prior_scale': 1.0}, Avg MAPE: 0.3633\n"
     ]
    },
    {
     "name": "stderr",
     "output_type": "stream",
     "text": [
      "12:55:54 - cmdstanpy - INFO - Chain [1] done processing\n",
      "12:55:54 - cmdstanpy - INFO - Chain [1] start processing\n",
      "12:55:55 - cmdstanpy - INFO - Chain [1] done processing\n",
      "12:55:55 - cmdstanpy - INFO - Chain [1] start processing\n",
      "12:55:55 - cmdstanpy - INFO - Chain [1] done processing\n",
      "12:55:55 - cmdstanpy - INFO - Chain [1] start processing\n"
     ]
    },
    {
     "name": "stdout",
     "output_type": "stream",
     "text": [
      "Params: {'changepoint_prior_scale': 0.5, 'changepoint_range': 0.8, 'holidays_prior_scale': 0.01, 'n_changepoints': 15, 'seasonality_mode': 'additive', 'seasonality_prior_scale': 10.0}, Avg MAPE: 0.1974\n"
     ]
    },
    {
     "name": "stderr",
     "output_type": "stream",
     "text": [
      "12:55:55 - cmdstanpy - INFO - Chain [1] done processing\n",
      "12:55:55 - cmdstanpy - INFO - Chain [1] start processing\n",
      "12:55:56 - cmdstanpy - INFO - Chain [1] done processing\n",
      "12:55:56 - cmdstanpy - INFO - Chain [1] start processing\n",
      "12:55:56 - cmdstanpy - INFO - Chain [1] done processing\n",
      "12:55:56 - cmdstanpy - INFO - Chain [1] start processing\n"
     ]
    },
    {
     "name": "stdout",
     "output_type": "stream",
     "text": [
      "Params: {'changepoint_prior_scale': 0.5, 'changepoint_range': 0.8, 'holidays_prior_scale': 0.01, 'n_changepoints': 15, 'seasonality_mode': 'multiplicative', 'seasonality_prior_scale': 1.0}, Avg MAPE: 0.0807\n"
     ]
    },
    {
     "name": "stderr",
     "output_type": "stream",
     "text": [
      "12:55:56 - cmdstanpy - INFO - Chain [1] done processing\n",
      "12:55:56 - cmdstanpy - INFO - Chain [1] start processing\n",
      "12:55:57 - cmdstanpy - INFO - Chain [1] done processing\n",
      "12:55:57 - cmdstanpy - INFO - Chain [1] start processing\n",
      "12:55:57 - cmdstanpy - INFO - Chain [1] done processing\n",
      "12:55:57 - cmdstanpy - INFO - Chain [1] start processing\n"
     ]
    },
    {
     "name": "stdout",
     "output_type": "stream",
     "text": [
      "Params: {'changepoint_prior_scale': 0.5, 'changepoint_range': 0.8, 'holidays_prior_scale': 0.01, 'n_changepoints': 15, 'seasonality_mode': 'multiplicative', 'seasonality_prior_scale': 10.0}, Avg MAPE: 0.0812\n"
     ]
    },
    {
     "name": "stderr",
     "output_type": "stream",
     "text": [
      "12:56:10 - cmdstanpy - INFO - Chain [1] done processing\n",
      "12:56:10 - cmdstanpy - INFO - Chain [1] start processing\n",
      "12:56:10 - cmdstanpy - INFO - Chain [1] done processing\n",
      "12:56:10 - cmdstanpy - INFO - Chain [1] start processing\n",
      "12:56:10 - cmdstanpy - INFO - Chain [1] done processing\n",
      "12:56:11 - cmdstanpy - INFO - Chain [1] start processing\n"
     ]
    },
    {
     "name": "stdout",
     "output_type": "stream",
     "text": [
      "Params: {'changepoint_prior_scale': 0.5, 'changepoint_range': 0.8, 'holidays_prior_scale': 0.01, 'n_changepoints': 25, 'seasonality_mode': 'additive', 'seasonality_prior_scale': 1.0}, Avg MAPE: 0.1744\n"
     ]
    },
    {
     "name": "stderr",
     "output_type": "stream",
     "text": [
      "12:56:24 - cmdstanpy - INFO - Chain [1] done processing\n",
      "12:56:24 - cmdstanpy - INFO - Chain [1] start processing\n",
      "12:56:24 - cmdstanpy - INFO - Chain [1] done processing\n",
      "12:56:24 - cmdstanpy - INFO - Chain [1] start processing\n",
      "12:56:24 - cmdstanpy - INFO - Chain [1] done processing\n",
      "12:56:24 - cmdstanpy - INFO - Chain [1] start processing\n"
     ]
    },
    {
     "name": "stdout",
     "output_type": "stream",
     "text": [
      "Params: {'changepoint_prior_scale': 0.5, 'changepoint_range': 0.8, 'holidays_prior_scale': 0.01, 'n_changepoints': 25, 'seasonality_mode': 'additive', 'seasonality_prior_scale': 10.0}, Avg MAPE: 0.2002\n"
     ]
    },
    {
     "name": "stderr",
     "output_type": "stream",
     "text": [
      "12:56:37 - cmdstanpy - INFO - Chain [1] done processing\n",
      "12:56:37 - cmdstanpy - INFO - Chain [1] start processing\n",
      "12:56:37 - cmdstanpy - INFO - Chain [1] done processing\n",
      "12:56:37 - cmdstanpy - INFO - Chain [1] start processing\n",
      "12:56:38 - cmdstanpy - INFO - Chain [1] done processing\n",
      "12:56:38 - cmdstanpy - INFO - Chain [1] start processing\n"
     ]
    },
    {
     "name": "stdout",
     "output_type": "stream",
     "text": [
      "Params: {'changepoint_prior_scale': 0.5, 'changepoint_range': 0.8, 'holidays_prior_scale': 0.01, 'n_changepoints': 25, 'seasonality_mode': 'multiplicative', 'seasonality_prior_scale': 1.0}, Avg MAPE: 0.1287\n"
     ]
    },
    {
     "name": "stderr",
     "output_type": "stream",
     "text": [
      "12:56:51 - cmdstanpy - INFO - Chain [1] done processing\n",
      "12:56:51 - cmdstanpy - INFO - Chain [1] start processing\n",
      "12:56:51 - cmdstanpy - INFO - Chain [1] done processing\n",
      "12:56:52 - cmdstanpy - INFO - Chain [1] start processing\n",
      "12:56:52 - cmdstanpy - INFO - Chain [1] done processing\n",
      "12:56:52 - cmdstanpy - INFO - Chain [1] start processing\n"
     ]
    },
    {
     "name": "stdout",
     "output_type": "stream",
     "text": [
      "Params: {'changepoint_prior_scale': 0.5, 'changepoint_range': 0.8, 'holidays_prior_scale': 0.01, 'n_changepoints': 25, 'seasonality_mode': 'multiplicative', 'seasonality_prior_scale': 10.0}, Avg MAPE: 0.1377\n"
     ]
    },
    {
     "name": "stderr",
     "output_type": "stream",
     "text": [
      "12:57:01 - cmdstanpy - INFO - Chain [1] done processing\n",
      "12:57:01 - cmdstanpy - INFO - Chain [1] start processing\n",
      "12:57:01 - cmdstanpy - INFO - Chain [1] done processing\n",
      "12:57:01 - cmdstanpy - INFO - Chain [1] start processing\n",
      "12:57:01 - cmdstanpy - INFO - Chain [1] done processing\n",
      "12:57:01 - cmdstanpy - INFO - Chain [1] start processing\n"
     ]
    },
    {
     "name": "stdout",
     "output_type": "stream",
     "text": [
      "Params: {'changepoint_prior_scale': 0.5, 'changepoint_range': 0.8, 'holidays_prior_scale': 0.1, 'n_changepoints': 15, 'seasonality_mode': 'additive', 'seasonality_prior_scale': 1.0}, Avg MAPE: 0.3633\n"
     ]
    },
    {
     "name": "stderr",
     "output_type": "stream",
     "text": [
      "12:57:11 - cmdstanpy - INFO - Chain [1] done processing\n",
      "12:57:11 - cmdstanpy - INFO - Chain [1] start processing\n",
      "12:57:11 - cmdstanpy - INFO - Chain [1] done processing\n",
      "12:57:11 - cmdstanpy - INFO - Chain [1] start processing\n",
      "12:57:11 - cmdstanpy - INFO - Chain [1] done processing\n",
      "12:57:11 - cmdstanpy - INFO - Chain [1] start processing\n"
     ]
    },
    {
     "name": "stdout",
     "output_type": "stream",
     "text": [
      "Params: {'changepoint_prior_scale': 0.5, 'changepoint_range': 0.8, 'holidays_prior_scale': 0.1, 'n_changepoints': 15, 'seasonality_mode': 'additive', 'seasonality_prior_scale': 10.0}, Avg MAPE: 0.1974\n"
     ]
    },
    {
     "name": "stderr",
     "output_type": "stream",
     "text": [
      "12:57:12 - cmdstanpy - INFO - Chain [1] done processing\n",
      "12:57:12 - cmdstanpy - INFO - Chain [1] start processing\n",
      "12:57:12 - cmdstanpy - INFO - Chain [1] done processing\n",
      "12:57:12 - cmdstanpy - INFO - Chain [1] start processing\n",
      "12:57:12 - cmdstanpy - INFO - Chain [1] done processing\n",
      "12:57:12 - cmdstanpy - INFO - Chain [1] start processing\n"
     ]
    },
    {
     "name": "stdout",
     "output_type": "stream",
     "text": [
      "Params: {'changepoint_prior_scale': 0.5, 'changepoint_range': 0.8, 'holidays_prior_scale': 0.1, 'n_changepoints': 15, 'seasonality_mode': 'multiplicative', 'seasonality_prior_scale': 1.0}, Avg MAPE: 0.0807\n"
     ]
    },
    {
     "name": "stderr",
     "output_type": "stream",
     "text": [
      "12:57:13 - cmdstanpy - INFO - Chain [1] done processing\n",
      "12:57:13 - cmdstanpy - INFO - Chain [1] start processing\n",
      "12:57:13 - cmdstanpy - INFO - Chain [1] done processing\n",
      "12:57:13 - cmdstanpy - INFO - Chain [1] start processing\n",
      "12:57:13 - cmdstanpy - INFO - Chain [1] done processing\n",
      "12:57:13 - cmdstanpy - INFO - Chain [1] start processing\n"
     ]
    },
    {
     "name": "stdout",
     "output_type": "stream",
     "text": [
      "Params: {'changepoint_prior_scale': 0.5, 'changepoint_range': 0.8, 'holidays_prior_scale': 0.1, 'n_changepoints': 15, 'seasonality_mode': 'multiplicative', 'seasonality_prior_scale': 10.0}, Avg MAPE: 0.0812\n"
     ]
    },
    {
     "name": "stderr",
     "output_type": "stream",
     "text": [
      "12:57:26 - cmdstanpy - INFO - Chain [1] done processing\n",
      "12:57:26 - cmdstanpy - INFO - Chain [1] start processing\n",
      "12:57:26 - cmdstanpy - INFO - Chain [1] done processing\n",
      "12:57:27 - cmdstanpy - INFO - Chain [1] start processing\n",
      "12:57:27 - cmdstanpy - INFO - Chain [1] done processing\n",
      "12:57:27 - cmdstanpy - INFO - Chain [1] start processing\n"
     ]
    },
    {
     "name": "stdout",
     "output_type": "stream",
     "text": [
      "Params: {'changepoint_prior_scale': 0.5, 'changepoint_range': 0.8, 'holidays_prior_scale': 0.1, 'n_changepoints': 25, 'seasonality_mode': 'additive', 'seasonality_prior_scale': 1.0}, Avg MAPE: 0.1744\n"
     ]
    },
    {
     "name": "stderr",
     "output_type": "stream",
     "text": [
      "12:57:40 - cmdstanpy - INFO - Chain [1] done processing\n",
      "12:57:40 - cmdstanpy - INFO - Chain [1] start processing\n",
      "12:57:41 - cmdstanpy - INFO - Chain [1] done processing\n",
      "12:57:41 - cmdstanpy - INFO - Chain [1] start processing\n",
      "12:57:41 - cmdstanpy - INFO - Chain [1] done processing\n",
      "12:57:41 - cmdstanpy - INFO - Chain [1] start processing\n"
     ]
    },
    {
     "name": "stdout",
     "output_type": "stream",
     "text": [
      "Params: {'changepoint_prior_scale': 0.5, 'changepoint_range': 0.8, 'holidays_prior_scale': 0.1, 'n_changepoints': 25, 'seasonality_mode': 'additive', 'seasonality_prior_scale': 10.0}, Avg MAPE: 0.2002\n"
     ]
    },
    {
     "name": "stderr",
     "output_type": "stream",
     "text": [
      "12:57:53 - cmdstanpy - INFO - Chain [1] done processing\n",
      "12:57:53 - cmdstanpy - INFO - Chain [1] start processing\n",
      "12:57:53 - cmdstanpy - INFO - Chain [1] done processing\n",
      "12:57:53 - cmdstanpy - INFO - Chain [1] start processing\n",
      "12:57:53 - cmdstanpy - INFO - Chain [1] done processing\n",
      "12:57:54 - cmdstanpy - INFO - Chain [1] start processing\n"
     ]
    },
    {
     "name": "stdout",
     "output_type": "stream",
     "text": [
      "Params: {'changepoint_prior_scale': 0.5, 'changepoint_range': 0.8, 'holidays_prior_scale': 0.1, 'n_changepoints': 25, 'seasonality_mode': 'multiplicative', 'seasonality_prior_scale': 1.0}, Avg MAPE: 0.1287\n"
     ]
    },
    {
     "name": "stderr",
     "output_type": "stream",
     "text": [
      "12:58:06 - cmdstanpy - INFO - Chain [1] done processing\n",
      "12:58:06 - cmdstanpy - INFO - Chain [1] start processing\n",
      "12:58:06 - cmdstanpy - INFO - Chain [1] done processing\n",
      "12:58:06 - cmdstanpy - INFO - Chain [1] start processing\n",
      "12:58:06 - cmdstanpy - INFO - Chain [1] done processing\n",
      "12:58:07 - cmdstanpy - INFO - Chain [1] start processing\n"
     ]
    },
    {
     "name": "stdout",
     "output_type": "stream",
     "text": [
      "Params: {'changepoint_prior_scale': 0.5, 'changepoint_range': 0.8, 'holidays_prior_scale': 0.1, 'n_changepoints': 25, 'seasonality_mode': 'multiplicative', 'seasonality_prior_scale': 10.0}, Avg MAPE: 0.1377\n"
     ]
    },
    {
     "name": "stderr",
     "output_type": "stream",
     "text": [
      "12:58:07 - cmdstanpy - INFO - Chain [1] done processing\n",
      "12:58:07 - cmdstanpy - INFO - Chain [1] start processing\n",
      "12:58:07 - cmdstanpy - INFO - Chain [1] done processing\n",
      "12:58:07 - cmdstanpy - INFO - Chain [1] start processing\n",
      "12:58:07 - cmdstanpy - INFO - Chain [1] done processing\n",
      "12:58:08 - cmdstanpy - INFO - Chain [1] start processing\n"
     ]
    },
    {
     "name": "stdout",
     "output_type": "stream",
     "text": [
      "Params: {'changepoint_prior_scale': 0.5, 'changepoint_range': 0.9, 'holidays_prior_scale': 0.01, 'n_changepoints': 15, 'seasonality_mode': 'additive', 'seasonality_prior_scale': 1.0}, Avg MAPE: 0.0972\n"
     ]
    },
    {
     "name": "stderr",
     "output_type": "stream",
     "text": [
      "12:58:08 - cmdstanpy - INFO - Chain [1] done processing\n",
      "12:58:08 - cmdstanpy - INFO - Chain [1] start processing\n",
      "12:58:08 - cmdstanpy - INFO - Chain [1] done processing\n",
      "12:58:08 - cmdstanpy - INFO - Chain [1] start processing\n",
      "12:58:08 - cmdstanpy - INFO - Chain [1] done processing\n",
      "12:58:09 - cmdstanpy - INFO - Chain [1] start processing\n"
     ]
    },
    {
     "name": "stdout",
     "output_type": "stream",
     "text": [
      "Params: {'changepoint_prior_scale': 0.5, 'changepoint_range': 0.9, 'holidays_prior_scale': 0.01, 'n_changepoints': 15, 'seasonality_mode': 'additive', 'seasonality_prior_scale': 10.0}, Avg MAPE: 0.0719\n"
     ]
    },
    {
     "name": "stderr",
     "output_type": "stream",
     "text": [
      "12:58:09 - cmdstanpy - INFO - Chain [1] done processing\n",
      "12:58:09 - cmdstanpy - INFO - Chain [1] start processing\n",
      "12:58:09 - cmdstanpy - INFO - Chain [1] done processing\n",
      "12:58:09 - cmdstanpy - INFO - Chain [1] start processing\n",
      "12:58:10 - cmdstanpy - INFO - Chain [1] done processing\n",
      "12:58:10 - cmdstanpy - INFO - Chain [1] start processing\n"
     ]
    },
    {
     "name": "stdout",
     "output_type": "stream",
     "text": [
      "Params: {'changepoint_prior_scale': 0.5, 'changepoint_range': 0.9, 'holidays_prior_scale': 0.01, 'n_changepoints': 15, 'seasonality_mode': 'multiplicative', 'seasonality_prior_scale': 1.0}, Avg MAPE: 0.1065\n"
     ]
    },
    {
     "name": "stderr",
     "output_type": "stream",
     "text": [
      "12:58:10 - cmdstanpy - INFO - Chain [1] done processing\n",
      "12:58:10 - cmdstanpy - INFO - Chain [1] start processing\n",
      "12:58:10 - cmdstanpy - INFO - Chain [1] done processing\n",
      "12:58:11 - cmdstanpy - INFO - Chain [1] start processing\n",
      "12:58:11 - cmdstanpy - INFO - Chain [1] done processing\n",
      "12:58:11 - cmdstanpy - INFO - Chain [1] start processing\n"
     ]
    },
    {
     "name": "stdout",
     "output_type": "stream",
     "text": [
      "Params: {'changepoint_prior_scale': 0.5, 'changepoint_range': 0.9, 'holidays_prior_scale': 0.01, 'n_changepoints': 15, 'seasonality_mode': 'multiplicative', 'seasonality_prior_scale': 10.0}, Avg MAPE: 0.0606\n"
     ]
    },
    {
     "name": "stderr",
     "output_type": "stream",
     "text": [
      "12:58:22 - cmdstanpy - INFO - Chain [1] done processing\n",
      "12:58:22 - cmdstanpy - INFO - Chain [1] start processing\n",
      "12:58:22 - cmdstanpy - INFO - Chain [1] done processing\n",
      "12:58:22 - cmdstanpy - INFO - Chain [1] start processing\n",
      "12:58:22 - cmdstanpy - INFO - Chain [1] done processing\n",
      "12:58:23 - cmdstanpy - INFO - Chain [1] start processing\n"
     ]
    },
    {
     "name": "stdout",
     "output_type": "stream",
     "text": [
      "Params: {'changepoint_prior_scale': 0.5, 'changepoint_range': 0.9, 'holidays_prior_scale': 0.01, 'n_changepoints': 25, 'seasonality_mode': 'additive', 'seasonality_prior_scale': 1.0}, Avg MAPE: 0.2904\n"
     ]
    },
    {
     "name": "stderr",
     "output_type": "stream",
     "text": [
      "12:58:35 - cmdstanpy - INFO - Chain [1] done processing\n",
      "12:58:35 - cmdstanpy - INFO - Chain [1] start processing\n",
      "12:58:36 - cmdstanpy - INFO - Chain [1] done processing\n",
      "12:58:36 - cmdstanpy - INFO - Chain [1] start processing\n",
      "12:58:36 - cmdstanpy - INFO - Chain [1] done processing\n",
      "12:58:36 - cmdstanpy - INFO - Chain [1] start processing\n"
     ]
    },
    {
     "name": "stdout",
     "output_type": "stream",
     "text": [
      "Params: {'changepoint_prior_scale': 0.5, 'changepoint_range': 0.9, 'holidays_prior_scale': 0.01, 'n_changepoints': 25, 'seasonality_mode': 'additive', 'seasonality_prior_scale': 10.0}, Avg MAPE: 0.1158\n"
     ]
    },
    {
     "name": "stderr",
     "output_type": "stream",
     "text": [
      "12:58:49 - cmdstanpy - INFO - Chain [1] done processing\n",
      "12:58:49 - cmdstanpy - INFO - Chain [1] start processing\n",
      "12:58:49 - cmdstanpy - INFO - Chain [1] done processing\n",
      "12:58:49 - cmdstanpy - INFO - Chain [1] start processing\n",
      "12:58:49 - cmdstanpy - INFO - Chain [1] done processing\n",
      "12:58:50 - cmdstanpy - INFO - Chain [1] start processing\n"
     ]
    },
    {
     "name": "stdout",
     "output_type": "stream",
     "text": [
      "Params: {'changepoint_prior_scale': 0.5, 'changepoint_range': 0.9, 'holidays_prior_scale': 0.01, 'n_changepoints': 25, 'seasonality_mode': 'multiplicative', 'seasonality_prior_scale': 1.0}, Avg MAPE: 0.0770\n"
     ]
    },
    {
     "name": "stderr",
     "output_type": "stream",
     "text": [
      "12:59:02 - cmdstanpy - INFO - Chain [1] done processing\n",
      "12:59:02 - cmdstanpy - INFO - Chain [1] start processing\n",
      "12:59:03 - cmdstanpy - INFO - Chain [1] done processing\n",
      "12:59:03 - cmdstanpy - INFO - Chain [1] start processing\n",
      "12:59:03 - cmdstanpy - INFO - Chain [1] done processing\n",
      "12:59:03 - cmdstanpy - INFO - Chain [1] start processing\n"
     ]
    },
    {
     "name": "stdout",
     "output_type": "stream",
     "text": [
      "Params: {'changepoint_prior_scale': 0.5, 'changepoint_range': 0.9, 'holidays_prior_scale': 0.01, 'n_changepoints': 25, 'seasonality_mode': 'multiplicative', 'seasonality_prior_scale': 10.0}, Avg MAPE: 0.0546\n"
     ]
    },
    {
     "name": "stderr",
     "output_type": "stream",
     "text": [
      "12:59:04 - cmdstanpy - INFO - Chain [1] done processing\n",
      "12:59:04 - cmdstanpy - INFO - Chain [1] start processing\n",
      "12:59:04 - cmdstanpy - INFO - Chain [1] done processing\n",
      "12:59:04 - cmdstanpy - INFO - Chain [1] start processing\n",
      "12:59:04 - cmdstanpy - INFO - Chain [1] done processing\n",
      "12:59:04 - cmdstanpy - INFO - Chain [1] start processing\n"
     ]
    },
    {
     "name": "stdout",
     "output_type": "stream",
     "text": [
      "Params: {'changepoint_prior_scale': 0.5, 'changepoint_range': 0.9, 'holidays_prior_scale': 0.1, 'n_changepoints': 15, 'seasonality_mode': 'additive', 'seasonality_prior_scale': 1.0}, Avg MAPE: 0.0972\n"
     ]
    },
    {
     "name": "stderr",
     "output_type": "stream",
     "text": [
      "12:59:05 - cmdstanpy - INFO - Chain [1] done processing\n",
      "12:59:05 - cmdstanpy - INFO - Chain [1] start processing\n",
      "12:59:05 - cmdstanpy - INFO - Chain [1] done processing\n",
      "12:59:05 - cmdstanpy - INFO - Chain [1] start processing\n",
      "12:59:05 - cmdstanpy - INFO - Chain [1] done processing\n",
      "12:59:05 - cmdstanpy - INFO - Chain [1] start processing\n"
     ]
    },
    {
     "name": "stdout",
     "output_type": "stream",
     "text": [
      "Params: {'changepoint_prior_scale': 0.5, 'changepoint_range': 0.9, 'holidays_prior_scale': 0.1, 'n_changepoints': 15, 'seasonality_mode': 'additive', 'seasonality_prior_scale': 10.0}, Avg MAPE: 0.0719\n"
     ]
    },
    {
     "name": "stderr",
     "output_type": "stream",
     "text": [
      "12:59:05 - cmdstanpy - INFO - Chain [1] done processing\n",
      "12:59:06 - cmdstanpy - INFO - Chain [1] start processing\n",
      "12:59:06 - cmdstanpy - INFO - Chain [1] done processing\n",
      "12:59:06 - cmdstanpy - INFO - Chain [1] start processing\n",
      "12:59:06 - cmdstanpy - INFO - Chain [1] done processing\n",
      "12:59:06 - cmdstanpy - INFO - Chain [1] start processing\n"
     ]
    },
    {
     "name": "stdout",
     "output_type": "stream",
     "text": [
      "Params: {'changepoint_prior_scale': 0.5, 'changepoint_range': 0.9, 'holidays_prior_scale': 0.1, 'n_changepoints': 15, 'seasonality_mode': 'multiplicative', 'seasonality_prior_scale': 1.0}, Avg MAPE: 0.1065\n"
     ]
    },
    {
     "name": "stderr",
     "output_type": "stream",
     "text": [
      "12:59:07 - cmdstanpy - INFO - Chain [1] done processing\n",
      "12:59:07 - cmdstanpy - INFO - Chain [1] start processing\n",
      "12:59:07 - cmdstanpy - INFO - Chain [1] done processing\n",
      "12:59:07 - cmdstanpy - INFO - Chain [1] start processing\n",
      "12:59:07 - cmdstanpy - INFO - Chain [1] done processing\n",
      "12:59:07 - cmdstanpy - INFO - Chain [1] start processing\n"
     ]
    },
    {
     "name": "stdout",
     "output_type": "stream",
     "text": [
      "Params: {'changepoint_prior_scale': 0.5, 'changepoint_range': 0.9, 'holidays_prior_scale': 0.1, 'n_changepoints': 15, 'seasonality_mode': 'multiplicative', 'seasonality_prior_scale': 10.0}, Avg MAPE: 0.0606\n"
     ]
    },
    {
     "name": "stderr",
     "output_type": "stream",
     "text": [
      "12:59:19 - cmdstanpy - INFO - Chain [1] done processing\n",
      "12:59:19 - cmdstanpy - INFO - Chain [1] start processing\n",
      "12:59:20 - cmdstanpy - INFO - Chain [1] done processing\n",
      "12:59:20 - cmdstanpy - INFO - Chain [1] start processing\n",
      "12:59:20 - cmdstanpy - INFO - Chain [1] done processing\n",
      "12:59:20 - cmdstanpy - INFO - Chain [1] start processing\n"
     ]
    },
    {
     "name": "stdout",
     "output_type": "stream",
     "text": [
      "Params: {'changepoint_prior_scale': 0.5, 'changepoint_range': 0.9, 'holidays_prior_scale': 0.1, 'n_changepoints': 25, 'seasonality_mode': 'additive', 'seasonality_prior_scale': 1.0}, Avg MAPE: 0.2904\n"
     ]
    },
    {
     "name": "stderr",
     "output_type": "stream",
     "text": [
      "12:59:32 - cmdstanpy - INFO - Chain [1] done processing\n",
      "12:59:32 - cmdstanpy - INFO - Chain [1] start processing\n",
      "12:59:32 - cmdstanpy - INFO - Chain [1] done processing\n",
      "12:59:32 - cmdstanpy - INFO - Chain [1] start processing\n",
      "12:59:33 - cmdstanpy - INFO - Chain [1] done processing\n",
      "12:59:33 - cmdstanpy - INFO - Chain [1] start processing\n"
     ]
    },
    {
     "name": "stdout",
     "output_type": "stream",
     "text": [
      "Params: {'changepoint_prior_scale': 0.5, 'changepoint_range': 0.9, 'holidays_prior_scale': 0.1, 'n_changepoints': 25, 'seasonality_mode': 'additive', 'seasonality_prior_scale': 10.0}, Avg MAPE: 0.1158\n"
     ]
    },
    {
     "name": "stderr",
     "output_type": "stream",
     "text": [
      "12:59:45 - cmdstanpy - INFO - Chain [1] done processing\n",
      "12:59:45 - cmdstanpy - INFO - Chain [1] start processing\n",
      "12:59:45 - cmdstanpy - INFO - Chain [1] done processing\n",
      "12:59:45 - cmdstanpy - INFO - Chain [1] start processing\n",
      "12:59:46 - cmdstanpy - INFO - Chain [1] done processing\n",
      "12:59:46 - cmdstanpy - INFO - Chain [1] start processing\n"
     ]
    },
    {
     "name": "stdout",
     "output_type": "stream",
     "text": [
      "Params: {'changepoint_prior_scale': 0.5, 'changepoint_range': 0.9, 'holidays_prior_scale': 0.1, 'n_changepoints': 25, 'seasonality_mode': 'multiplicative', 'seasonality_prior_scale': 1.0}, Avg MAPE: 0.0770\n"
     ]
    },
    {
     "name": "stderr",
     "output_type": "stream",
     "text": [
      "12:59:58 - cmdstanpy - INFO - Chain [1] done processing\n",
      "12:59:58 - cmdstanpy - INFO - Chain [1] start processing\n",
      "12:59:58 - cmdstanpy - INFO - Chain [1] done processing\n",
      "12:59:58 - cmdstanpy - INFO - Chain [1] start processing\n",
      "12:59:58 - cmdstanpy - INFO - Chain [1] done processing\n"
     ]
    },
    {
     "name": "stdout",
     "output_type": "stream",
     "text": [
      "Params: {'changepoint_prior_scale': 0.5, 'changepoint_range': 0.9, 'holidays_prior_scale': 0.1, 'n_changepoints': 25, 'seasonality_mode': 'multiplicative', 'seasonality_prior_scale': 10.0}, Avg MAPE: 0.0546\n",
      "\n",
      "✅ Best Params: {'changepoint_prior_scale': 0.5, 'changepoint_range': 0.9, 'holidays_prior_scale': 0.01, 'n_changepoints': 25, 'seasonality_mode': 'multiplicative', 'seasonality_prior_scale': 10.0}\n",
      "✅ Best Avg MAPE: 0.054575673048610975\n"
     ]
    }
   ],
   "source": [
    "# Grid search\n",
    "for params in grid:\n",
    "    mape_scores = []\n",
    "    \n",
    "    for train_index, val_index in tscv.split(df):\n",
    "        train_df = df.iloc[train_index]\n",
    "        val_df = df.iloc[val_index]\n",
    "        \n",
    "        model = Prophet(\n",
    "            changepoint_prior_scale=params['changepoint_prior_scale'],\n",
    "            seasonality_prior_scale=params['seasonality_prior_scale'],\n",
    "            holidays_prior_scale=params['holidays_prior_scale'],\n",
    "            seasonality_mode=params['seasonality_mode'],\n",
    "            changepoint_range=params['changepoint_range'],\n",
    "            n_changepoints=params['n_changepoints'],\n",
    "            yearly_seasonality=True,\n",
    "            weekly_seasonality=False,\n",
    "            daily_seasonality=False\n",
    "        )\n",
    "        model.fit(train_df)\n",
    "        \n",
    "        future = model.make_future_dataframe(periods=len(val_df), freq='MS')\n",
    "        forecast = model.predict(future)\n",
    "        \n",
    "        forecast = forecast.set_index('ds').loc[val_df['ds'], 'yhat']\n",
    "        y_true = val_df.set_index('ds')['y']\n",
    "        y_pred = forecast\n",
    "        \n",
    "        mape = mean_absolute_percentage_error(y_true, y_pred)\n",
    "        mape_scores.append(mape)\n",
    "    \n",
    "    avg_mape = np.mean(mape_scores)\n",
    "    print(f\"Params: {params}, Avg MAPE: {avg_mape:.4f}\")\n",
    "    \n",
    "    if avg_mape < best_mape:\n",
    "        best_mape = avg_mape\n",
    "        best_params = params\n",
    "\n",
    "# Show best parameters\n",
    "print(\"\\n✅ Best Params:\", best_params)\n",
    "print(\"✅ Best Avg MAPE:\", best_mape)\n"
   ]
  },
  {
   "cell_type": "code",
   "execution_count": 21,
   "id": "f1e143e9-6d3d-4298-9e87-1f2d9263035c",
   "metadata": {},
   "outputs": [
    {
     "name": "stderr",
     "output_type": "stream",
     "text": [
      "12:59:59 - cmdstanpy - INFO - Chain [1] start processing\n",
      "12:59:59 - cmdstanpy - INFO - Chain [1] done processing\n"
     ]
    },
    {
     "data": {
      "text/plain": [
       "<prophet.forecaster.Prophet at 0x7c9aca78fb90>"
      ]
     },
     "execution_count": 21,
     "metadata": {},
     "output_type": "execute_result"
    }
   ],
   "source": [
    "# Train final model on full data with best params\n",
    "final_model = Prophet(\n",
    "    changepoint_prior_scale=best_params['changepoint_prior_scale'],\n",
    "    seasonality_prior_scale=best_params['seasonality_prior_scale'],\n",
    "    holidays_prior_scale=best_params['holidays_prior_scale'],\n",
    "    seasonality_mode=best_params['seasonality_mode'],\n",
    "    changepoint_range=best_params['changepoint_range'],\n",
    "    n_changepoints=best_params['n_changepoints'],\n",
    "    yearly_seasonality=True,\n",
    "    weekly_seasonality=False,\n",
    "    daily_seasonality=False\n",
    ")\n",
    "final_model.fit(df)"
   ]
  },
  {
   "cell_type": "code",
   "execution_count": 22,
   "id": "10513523-0caf-4776-bb2e-91939c95d547",
   "metadata": {},
   "outputs": [],
   "source": [
    "# Forecast future\n",
    "future = final_model.make_future_dataframe(periods=12, freq='MS')\n",
    "forecast = final_model.predict(future)"
   ]
  },
  {
   "cell_type": "code",
   "execution_count": 23,
   "id": "1eaf1ef1-b9b4-41b9-813d-98960fde0b04",
   "metadata": {},
   "outputs": [
    {
     "data": {
      "image/png": "[encoded data removed]",
      "text/plain": [
       "<Figure size 1000x600 with 1 Axes>"
      ]
     },
     "metadata": {},
     "output_type": "display_data"
    }
   ],
   "source": [
    "# Plot results\n",
    "final_model.plot(forecast)\n",
    "plt.title('Final Forecast with Best Parameters')\n",
    "plt.show()"
   ]
  },
  {
   "cell_type": "code",
   "execution_count": null,
   "id": "6881ecee-bab6-4a33-8057-865009dc0b87",
   "metadata": {},
   "outputs": [],
   "source": []
  }
 ],
 "metadata": {
  "kernelspec": {
   "display_name": "Python 3 (ipykernel)",
   "language": "python",
   "name": "python3"
  },
  "language_info": {
   "codemirror_mode": {
    "name": "ipython",
    "version": 3
   },
   "file_extension": ".py",
   "mimetype": "text/x-python",
   "name": "python",
   "nbconvert_exporter": "python",
   "pygments_lexer": "ipython3",
   "version": "3.12.9"
  }
 },
 "nbformat": 4,
 "nbformat_minor": 5
}
